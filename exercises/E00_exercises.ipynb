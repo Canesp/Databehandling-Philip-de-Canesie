{
 "cells": [
  {
   "cell_type": "markdown",
   "metadata": {},
   "source": [
    "# 1. Cities in Sweden - create dataset"
   ]
  },
  {
   "cell_type": "markdown",
   "metadata": {},
   "source": [
    "- Create this DataFrame from scratch:"
   ]
  },
  {
   "cell_type": "code",
   "execution_count": 1,
   "metadata": {},
   "outputs": [
    {
     "data": {
      "text/html": [
       "<div>\n",
       "<style scoped>\n",
       "    .dataframe tbody tr th:only-of-type {\n",
       "        vertical-align: middle;\n",
       "    }\n",
       "\n",
       "    .dataframe tbody tr th {\n",
       "        vertical-align: top;\n",
       "    }\n",
       "\n",
       "    .dataframe thead th {\n",
       "        text-align: right;\n",
       "    }\n",
       "</style>\n",
       "<table border=\"1\" class=\"dataframe\">\n",
       "  <thead>\n",
       "    <tr style=\"text-align: right;\">\n",
       "      <th></th>\n",
       "      <th>Kommun</th>\n",
       "      <th>Population</th>\n",
       "    </tr>\n",
       "  </thead>\n",
       "  <tbody>\n",
       "    <tr>\n",
       "      <th>0</th>\n",
       "      <td>Malmö</td>\n",
       "      <td>347949</td>\n",
       "    </tr>\n",
       "    <tr>\n",
       "      <th>1</th>\n",
       "      <td>Stockholm</td>\n",
       "      <td>975551</td>\n",
       "    </tr>\n",
       "    <tr>\n",
       "      <th>2</th>\n",
       "      <td>Uppsala</td>\n",
       "      <td>233839</td>\n",
       "    </tr>\n",
       "    <tr>\n",
       "      <th>3</th>\n",
       "      <td>Göteborg</td>\n",
       "      <td>583056</td>\n",
       "    </tr>\n",
       "  </tbody>\n",
       "</table>\n",
       "</div>"
      ],
      "text/plain": [
       "      Kommun  Population\n",
       "0      Malmö      347949\n",
       "1  Stockholm      975551\n",
       "2    Uppsala      233839\n",
       "3   Göteborg      583056"
      ]
     },
     "execution_count": 1,
     "metadata": {},
     "output_type": "execute_result"
    }
   ],
   "source": [
    "import pandas as pd\n",
    "\n",
    "data = pd.Series(\n",
    "    {\"Malmö\": 347949, \"Stockholm\": 975551, \"Uppsala\": 233839, \"Göteborg\": 583056}\n",
    ")\n",
    "\n",
    "df = pd.DataFrame({\"Kommun\": data.keys(), \"Population\": data.values})\n",
    "\n",
    "df\n"
   ]
  },
  {
   "cell_type": "markdown",
   "metadata": {},
   "source": [
    "###  a) Use your DataFrame to print out all the cities. "
   ]
  },
  {
   "cell_type": "code",
   "execution_count": 2,
   "metadata": {},
   "outputs": [
    {
     "data": {
      "text/plain": [
       "0        Malmö\n",
       "1    Stockholm\n",
       "2      Uppsala\n",
       "3     Göteborg\n",
       "Name: Kommun, dtype: object"
      ]
     },
     "execution_count": 2,
     "metadata": {},
     "output_type": "execute_result"
    }
   ],
   "source": [
    "df[\"Kommun\"]\n"
   ]
  },
  {
   "cell_type": "markdown",
   "metadata": {},
   "source": [
    "### b) Select only the row which contains Göteborg. Do this by using the name Göteborg."
   ]
  },
  {
   "cell_type": "code",
   "execution_count": 3,
   "metadata": {},
   "outputs": [
    {
     "data": {
      "text/html": [
       "<div>\n",
       "<style scoped>\n",
       "    .dataframe tbody tr th:only-of-type {\n",
       "        vertical-align: middle;\n",
       "    }\n",
       "\n",
       "    .dataframe tbody tr th {\n",
       "        vertical-align: top;\n",
       "    }\n",
       "\n",
       "    .dataframe thead th {\n",
       "        text-align: right;\n",
       "    }\n",
       "</style>\n",
       "<table border=\"1\" class=\"dataframe\">\n",
       "  <thead>\n",
       "    <tr style=\"text-align: right;\">\n",
       "      <th></th>\n",
       "      <th>Kommun</th>\n",
       "      <th>Population</th>\n",
       "    </tr>\n",
       "  </thead>\n",
       "  <tbody>\n",
       "    <tr>\n",
       "      <th>3</th>\n",
       "      <td>Göteborg</td>\n",
       "      <td>583056</td>\n",
       "    </tr>\n",
       "  </tbody>\n",
       "</table>\n",
       "</div>"
      ],
      "text/plain": [
       "     Kommun  Population\n",
       "3  Göteborg      583056"
      ]
     },
     "execution_count": 3,
     "metadata": {},
     "output_type": "execute_result"
    }
   ],
   "source": [
    "df.loc[df[\"Kommun\"] == \"Göteborg\"]\n"
   ]
  },
  {
   "cell_type": "markdown",
   "metadata": {},
   "source": [
    "### c) Sort the cities by population from largest to smallest. "
   ]
  },
  {
   "cell_type": "code",
   "execution_count": 4,
   "metadata": {},
   "outputs": [
    {
     "data": {
      "text/html": [
       "<div>\n",
       "<style scoped>\n",
       "    .dataframe tbody tr th:only-of-type {\n",
       "        vertical-align: middle;\n",
       "    }\n",
       "\n",
       "    .dataframe tbody tr th {\n",
       "        vertical-align: top;\n",
       "    }\n",
       "\n",
       "    .dataframe thead th {\n",
       "        text-align: right;\n",
       "    }\n",
       "</style>\n",
       "<table border=\"1\" class=\"dataframe\">\n",
       "  <thead>\n",
       "    <tr style=\"text-align: right;\">\n",
       "      <th></th>\n",
       "      <th>Kommun</th>\n",
       "      <th>Population</th>\n",
       "    </tr>\n",
       "  </thead>\n",
       "  <tbody>\n",
       "    <tr>\n",
       "      <th>1</th>\n",
       "      <td>Stockholm</td>\n",
       "      <td>975551</td>\n",
       "    </tr>\n",
       "    <tr>\n",
       "      <th>3</th>\n",
       "      <td>Göteborg</td>\n",
       "      <td>583056</td>\n",
       "    </tr>\n",
       "    <tr>\n",
       "      <th>0</th>\n",
       "      <td>Malmö</td>\n",
       "      <td>347949</td>\n",
       "    </tr>\n",
       "    <tr>\n",
       "      <th>2</th>\n",
       "      <td>Uppsala</td>\n",
       "      <td>233839</td>\n",
       "    </tr>\n",
       "  </tbody>\n",
       "</table>\n",
       "</div>"
      ],
      "text/plain": [
       "      Kommun  Population\n",
       "1  Stockholm      975551\n",
       "3   Göteborg      583056\n",
       "0      Malmö      347949\n",
       "2    Uppsala      233839"
      ]
     },
     "execution_count": 4,
     "metadata": {},
     "output_type": "execute_result"
    }
   ],
   "source": [
    "sorted_citys = df.sort_values(by=\"Population\", ascending=False)\n",
    "sorted_citys\n"
   ]
  },
  {
   "cell_type": "markdown",
   "metadata": {},
   "source": [
    "### d) Filter out the three largest cities."
   ]
  },
  {
   "cell_type": "code",
   "execution_count": 5,
   "metadata": {},
   "outputs": [
    {
     "data": {
      "text/html": [
       "<div>\n",
       "<style scoped>\n",
       "    .dataframe tbody tr th:only-of-type {\n",
       "        vertical-align: middle;\n",
       "    }\n",
       "\n",
       "    .dataframe tbody tr th {\n",
       "        vertical-align: top;\n",
       "    }\n",
       "\n",
       "    .dataframe thead th {\n",
       "        text-align: right;\n",
       "    }\n",
       "</style>\n",
       "<table border=\"1\" class=\"dataframe\">\n",
       "  <thead>\n",
       "    <tr style=\"text-align: right;\">\n",
       "      <th></th>\n",
       "      <th>Kommun</th>\n",
       "      <th>Population</th>\n",
       "    </tr>\n",
       "  </thead>\n",
       "  <tbody>\n",
       "    <tr>\n",
       "      <th>1</th>\n",
       "      <td>Stockholm</td>\n",
       "      <td>975551</td>\n",
       "    </tr>\n",
       "    <tr>\n",
       "      <th>3</th>\n",
       "      <td>Göteborg</td>\n",
       "      <td>583056</td>\n",
       "    </tr>\n",
       "    <tr>\n",
       "      <th>0</th>\n",
       "      <td>Malmö</td>\n",
       "      <td>347949</td>\n",
       "    </tr>\n",
       "  </tbody>\n",
       "</table>\n",
       "</div>"
      ],
      "text/plain": [
       "      Kommun  Population\n",
       "1  Stockholm      975551\n",
       "3   Göteborg      583056\n",
       "0      Malmö      347949"
      ]
     },
     "execution_count": 5,
     "metadata": {},
     "output_type": "execute_result"
    }
   ],
   "source": [
    "sorted_citys.head(3)\n"
   ]
  },
  {
   "cell_type": "markdown",
   "metadata": {},
   "source": [
    "### e) The whole population in Sweden 2020 is 10379295. Use this number to create a new column in your sorted DataFrame named: Population (%). This column should be filled with percentage of the Swedish population for each city."
   ]
  },
  {
   "cell_type": "code",
   "execution_count": 6,
   "metadata": {},
   "outputs": [
    {
     "data": {
      "text/html": [
       "<div>\n",
       "<style scoped>\n",
       "    .dataframe tbody tr th:only-of-type {\n",
       "        vertical-align: middle;\n",
       "    }\n",
       "\n",
       "    .dataframe tbody tr th {\n",
       "        vertical-align: top;\n",
       "    }\n",
       "\n",
       "    .dataframe thead th {\n",
       "        text-align: right;\n",
       "    }\n",
       "</style>\n",
       "<table border=\"1\" class=\"dataframe\">\n",
       "  <thead>\n",
       "    <tr style=\"text-align: right;\">\n",
       "      <th></th>\n",
       "      <th>Kommun</th>\n",
       "      <th>Population</th>\n",
       "      <th>Population (%)</th>\n",
       "    </tr>\n",
       "  </thead>\n",
       "  <tbody>\n",
       "    <tr>\n",
       "      <th>1</th>\n",
       "      <td>Stockholm</td>\n",
       "      <td>975551</td>\n",
       "      <td>9.4</td>\n",
       "    </tr>\n",
       "    <tr>\n",
       "      <th>3</th>\n",
       "      <td>Göteborg</td>\n",
       "      <td>583056</td>\n",
       "      <td>5.6</td>\n",
       "    </tr>\n",
       "    <tr>\n",
       "      <th>0</th>\n",
       "      <td>Malmö</td>\n",
       "      <td>347949</td>\n",
       "      <td>3.4</td>\n",
       "    </tr>\n",
       "    <tr>\n",
       "      <th>2</th>\n",
       "      <td>Uppsala</td>\n",
       "      <td>233839</td>\n",
       "      <td>2.3</td>\n",
       "    </tr>\n",
       "  </tbody>\n",
       "</table>\n",
       "</div>"
      ],
      "text/plain": [
       "      Kommun  Population  Population (%)\n",
       "1  Stockholm      975551             9.4\n",
       "3   Göteborg      583056             5.6\n",
       "0      Malmö      347949             3.4\n",
       "2    Uppsala      233839             2.3"
      ]
     },
     "execution_count": 6,
     "metadata": {},
     "output_type": "execute_result"
    }
   ],
   "source": [
    "sorted_citys[\"Population (%)\"] = round((sorted_citys[\"Population\"] / 10379295) * 100, 1)\n",
    "sorted_citys\n"
   ]
  },
  {
   "cell_type": "markdown",
   "metadata": {},
   "source": [
    "# 2. Cities in Sweden - real dataset"
   ]
  },
  {
   "cell_type": "markdown",
   "metadata": {},
   "source": [
    "### a) Read in the tab \"Totalt\" into a DataFrame and start exploring the data with some simple explorations such as\n",
    "\n",
    "- df.head()\n",
    "- df.info()\n",
    "- df.describe()"
   ]
  },
  {
   "cell_type": "code",
   "execution_count": 7,
   "metadata": {},
   "outputs": [
    {
     "data": {
      "text/html": [
       "<div>\n",
       "<style scoped>\n",
       "    .dataframe tbody tr th:only-of-type {\n",
       "        vertical-align: middle;\n",
       "    }\n",
       "\n",
       "    .dataframe tbody tr th {\n",
       "        vertical-align: top;\n",
       "    }\n",
       "\n",
       "    .dataframe thead th {\n",
       "        text-align: right;\n",
       "    }\n",
       "</style>\n",
       "<table border=\"1\" class=\"dataframe\">\n",
       "  <thead>\n",
       "    <tr style=\"text-align: right;\">\n",
       "      <th></th>\n",
       "      <th>Rang</th>\n",
       "      <th>Unnamed: 1</th>\n",
       "      <th>Kommun</th>\n",
       "      <th>Folkmängd 31 december</th>\n",
       "      <th>Unnamed: 4</th>\n",
       "      <th>Förändring</th>\n",
       "    </tr>\n",
       "  </thead>\n",
       "  <tbody>\n",
       "    <tr>\n",
       "      <th>0</th>\n",
       "      <td>2020</td>\n",
       "      <td>2019</td>\n",
       "      <td>NaN</td>\n",
       "      <td>2020</td>\n",
       "      <td>2019</td>\n",
       "      <td>%</td>\n",
       "    </tr>\n",
       "    <tr>\n",
       "      <th>1</th>\n",
       "      <td>83</td>\n",
       "      <td>84</td>\n",
       "      <td>Ale</td>\n",
       "      <td>31868</td>\n",
       "      <td>31402</td>\n",
       "      <td>1.483982</td>\n",
       "    </tr>\n",
       "    <tr>\n",
       "      <th>2</th>\n",
       "      <td>64</td>\n",
       "      <td>64</td>\n",
       "      <td>Alingsås</td>\n",
       "      <td>41602</td>\n",
       "      <td>41420</td>\n",
       "      <td>0.439401</td>\n",
       "    </tr>\n",
       "    <tr>\n",
       "      <th>3</th>\n",
       "      <td>123</td>\n",
       "      <td>123</td>\n",
       "      <td>Alvesta</td>\n",
       "      <td>20224</td>\n",
       "      <td>20134</td>\n",
       "      <td>0.447005</td>\n",
       "    </tr>\n",
       "    <tr>\n",
       "      <th>4</th>\n",
       "      <td>255</td>\n",
       "      <td>255</td>\n",
       "      <td>Aneby</td>\n",
       "      <td>6821</td>\n",
       "      <td>6848</td>\n",
       "      <td>-0.394276</td>\n",
       "    </tr>\n",
       "  </tbody>\n",
       "</table>\n",
       "</div>"
      ],
      "text/plain": [
       "   Rang  Unnamed: 1    Kommun  Folkmängd 31 december  Unnamed: 4 Förändring\n",
       "0  2020        2019       NaN                   2020        2019          %\n",
       "1    83          84       Ale                  31868       31402   1.483982\n",
       "2    64          64  Alingsås                  41602       41420   0.439401\n",
       "3   123         123   Alvesta                  20224       20134   0.447005\n",
       "4   255         255     Aneby                   6821        6848  -0.394276"
      ]
     },
     "execution_count": 7,
     "metadata": {},
     "output_type": "execute_result"
    }
   ],
   "source": [
    "df = pd.read_excel(\n",
    "    \"../Data/komtopp50_2020.xlsx\", header=5, usecols=range(0, 6), sheet_name=\"Totalt\"\n",
    ")\n",
    "\n",
    "df.head()\n"
   ]
  },
  {
   "cell_type": "code",
   "execution_count": 8,
   "metadata": {},
   "outputs": [
    {
     "name": "stdout",
     "output_type": "stream",
     "text": [
      "<class 'pandas.core.frame.DataFrame'>\n",
      "RangeIndex: 291 entries, 0 to 290\n",
      "Data columns (total 6 columns):\n",
      " #   Column                 Non-Null Count  Dtype \n",
      "---  ------                 --------------  ----- \n",
      " 0   Rang                   291 non-null    int64 \n",
      " 1   Unnamed: 1             291 non-null    int64 \n",
      " 2   Kommun                 290 non-null    object\n",
      " 3   Folkmängd 31 december  291 non-null    int64 \n",
      " 4   Unnamed: 4             291 non-null    int64 \n",
      " 5   Förändring             291 non-null    object\n",
      "dtypes: int64(4), object(2)\n",
      "memory usage: 13.8+ KB\n"
     ]
    }
   ],
   "source": [
    "df.info()\n"
   ]
  },
  {
   "cell_type": "code",
   "execution_count": 9,
   "metadata": {},
   "outputs": [
    {
     "data": {
      "text/html": [
       "<div>\n",
       "<style scoped>\n",
       "    .dataframe tbody tr th:only-of-type {\n",
       "        vertical-align: middle;\n",
       "    }\n",
       "\n",
       "    .dataframe tbody tr th {\n",
       "        vertical-align: top;\n",
       "    }\n",
       "\n",
       "    .dataframe thead th {\n",
       "        text-align: right;\n",
       "    }\n",
       "</style>\n",
       "<table border=\"1\" class=\"dataframe\">\n",
       "  <thead>\n",
       "    <tr style=\"text-align: right;\">\n",
       "      <th></th>\n",
       "      <th>Rang</th>\n",
       "      <th>Unnamed: 1</th>\n",
       "      <th>Folkmängd 31 december</th>\n",
       "      <th>Unnamed: 4</th>\n",
       "    </tr>\n",
       "  </thead>\n",
       "  <tbody>\n",
       "    <tr>\n",
       "      <th>count</th>\n",
       "      <td>291.000000</td>\n",
       "      <td>291.000000</td>\n",
       "      <td>291.000000</td>\n",
       "      <td>291.000000</td>\n",
       "    </tr>\n",
       "    <tr>\n",
       "      <th>mean</th>\n",
       "      <td>151.941581</td>\n",
       "      <td>151.934708</td>\n",
       "      <td>35674.621993</td>\n",
       "      <td>35496.934708</td>\n",
       "    </tr>\n",
       "    <tr>\n",
       "      <th>std</th>\n",
       "      <td>138.141207</td>\n",
       "      <td>138.092769</td>\n",
       "      <td>74524.551914</td>\n",
       "      <td>74190.464321</td>\n",
       "    </tr>\n",
       "    <tr>\n",
       "      <th>min</th>\n",
       "      <td>1.000000</td>\n",
       "      <td>1.000000</td>\n",
       "      <td>2020.000000</td>\n",
       "      <td>2019.000000</td>\n",
       "    </tr>\n",
       "    <tr>\n",
       "      <th>25%</th>\n",
       "      <td>73.500000</td>\n",
       "      <td>73.500000</td>\n",
       "      <td>9993.500000</td>\n",
       "      <td>10005.000000</td>\n",
       "    </tr>\n",
       "    <tr>\n",
       "      <th>50%</th>\n",
       "      <td>146.000000</td>\n",
       "      <td>146.000000</td>\n",
       "      <td>16063.000000</td>\n",
       "      <td>15940.000000</td>\n",
       "    </tr>\n",
       "    <tr>\n",
       "      <th>75%</th>\n",
       "      <td>218.500000</td>\n",
       "      <td>218.500000</td>\n",
       "      <td>35775.500000</td>\n",
       "      <td>35649.500000</td>\n",
       "    </tr>\n",
       "    <tr>\n",
       "      <th>max</th>\n",
       "      <td>2020.000000</td>\n",
       "      <td>2019.000000</td>\n",
       "      <td>975551.000000</td>\n",
       "      <td>974073.000000</td>\n",
       "    </tr>\n",
       "  </tbody>\n",
       "</table>\n",
       "</div>"
      ],
      "text/plain": [
       "              Rang   Unnamed: 1  Folkmängd 31 december     Unnamed: 4\n",
       "count   291.000000   291.000000             291.000000     291.000000\n",
       "mean    151.941581   151.934708           35674.621993   35496.934708\n",
       "std     138.141207   138.092769           74524.551914   74190.464321\n",
       "min       1.000000     1.000000            2020.000000    2019.000000\n",
       "25%      73.500000    73.500000            9993.500000   10005.000000\n",
       "50%     146.000000   146.000000           16063.000000   15940.000000\n",
       "75%     218.500000   218.500000           35775.500000   35649.500000\n",
       "max    2020.000000  2019.000000          975551.000000  974073.000000"
      ]
     },
     "execution_count": 9,
     "metadata": {},
     "output_type": "execute_result"
    }
   ],
   "source": [
    "df.describe()\n"
   ]
  },
  {
   "cell_type": "markdown",
   "metadata": {},
   "source": [
    "### b) Clean your data so that the h"
   ]
  },
  {
   "cell_type": "code",
   "execution_count": 10,
   "metadata": {},
   "outputs": [
    {
     "data": {
      "text/html": [
       "<div>\n",
       "<style scoped>\n",
       "    .dataframe tbody tr th:only-of-type {\n",
       "        vertical-align: middle;\n",
       "    }\n",
       "\n",
       "    .dataframe tbody tr th {\n",
       "        vertical-align: top;\n",
       "    }\n",
       "\n",
       "    .dataframe thead th {\n",
       "        text-align: right;\n",
       "    }\n",
       "</style>\n",
       "<table border=\"1\" class=\"dataframe\">\n",
       "  <thead>\n",
       "    <tr style=\"text-align: right;\">\n",
       "      <th></th>\n",
       "      <th>Rang 2020</th>\n",
       "      <th>Rang 2019</th>\n",
       "      <th>Kommun</th>\n",
       "      <th>Folkmängd 2020</th>\n",
       "      <th>Folkmängd 2019</th>\n",
       "      <th>Förändring</th>\n",
       "    </tr>\n",
       "  </thead>\n",
       "  <tbody>\n",
       "    <tr>\n",
       "      <th>1</th>\n",
       "      <td>83</td>\n",
       "      <td>84</td>\n",
       "      <td>Ale</td>\n",
       "      <td>31868</td>\n",
       "      <td>31402</td>\n",
       "      <td>1.483982</td>\n",
       "    </tr>\n",
       "    <tr>\n",
       "      <th>2</th>\n",
       "      <td>64</td>\n",
       "      <td>64</td>\n",
       "      <td>Alingsås</td>\n",
       "      <td>41602</td>\n",
       "      <td>41420</td>\n",
       "      <td>0.439401</td>\n",
       "    </tr>\n",
       "    <tr>\n",
       "      <th>3</th>\n",
       "      <td>123</td>\n",
       "      <td>123</td>\n",
       "      <td>Alvesta</td>\n",
       "      <td>20224</td>\n",
       "      <td>20134</td>\n",
       "      <td>0.447005</td>\n",
       "    </tr>\n",
       "    <tr>\n",
       "      <th>4</th>\n",
       "      <td>255</td>\n",
       "      <td>255</td>\n",
       "      <td>Aneby</td>\n",
       "      <td>6821</td>\n",
       "      <td>6848</td>\n",
       "      <td>-0.394276</td>\n",
       "    </tr>\n",
       "    <tr>\n",
       "      <th>5</th>\n",
       "      <td>169</td>\n",
       "      <td>167</td>\n",
       "      <td>Arboga</td>\n",
       "      <td>14039</td>\n",
       "      <td>14087</td>\n",
       "      <td>-0.34074</td>\n",
       "    </tr>\n",
       "    <tr>\n",
       "      <th>...</th>\n",
       "      <td>...</td>\n",
       "      <td>...</td>\n",
       "      <td>...</td>\n",
       "      <td>...</td>\n",
       "      <td>...</td>\n",
       "      <td>...</td>\n",
       "    </tr>\n",
       "    <tr>\n",
       "      <th>286</th>\n",
       "      <td>54</td>\n",
       "      <td>55</td>\n",
       "      <td>Österåker</td>\n",
       "      <td>46644</td>\n",
       "      <td>45574</td>\n",
       "      <td>2.34783</td>\n",
       "    </tr>\n",
       "    <tr>\n",
       "      <th>287</th>\n",
       "      <td>116</td>\n",
       "      <td>115</td>\n",
       "      <td>Östhammar</td>\n",
       "      <td>22251</td>\n",
       "      <td>22250</td>\n",
       "      <td>0.004494</td>\n",
       "    </tr>\n",
       "    <tr>\n",
       "      <th>288</th>\n",
       "      <td>160</td>\n",
       "      <td>159</td>\n",
       "      <td>Östra Göinge</td>\n",
       "      <td>15017</td>\n",
       "      <td>15007</td>\n",
       "      <td>0.066636</td>\n",
       "    </tr>\n",
       "    <tr>\n",
       "      <th>289</th>\n",
       "      <td>284</td>\n",
       "      <td>284</td>\n",
       "      <td>Överkalix</td>\n",
       "      <td>3289</td>\n",
       "      <td>3315</td>\n",
       "      <td>-0.784314</td>\n",
       "    </tr>\n",
       "    <tr>\n",
       "      <th>290</th>\n",
       "      <td>279</td>\n",
       "      <td>279</td>\n",
       "      <td>Övertorneå</td>\n",
       "      <td>4217</td>\n",
       "      <td>4299</td>\n",
       "      <td>-1.90742</td>\n",
       "    </tr>\n",
       "  </tbody>\n",
       "</table>\n",
       "<p>290 rows × 6 columns</p>\n",
       "</div>"
      ],
      "text/plain": [
       "     Rang 2020  Rang 2019        Kommun  Folkmängd 2020  Folkmängd 2019  \\\n",
       "1           83         84           Ale           31868           31402   \n",
       "2           64         64      Alingsås           41602           41420   \n",
       "3          123        123       Alvesta           20224           20134   \n",
       "4          255        255         Aneby            6821            6848   \n",
       "5          169        167        Arboga           14039           14087   \n",
       "..         ...        ...           ...             ...             ...   \n",
       "286         54         55     Österåker           46644           45574   \n",
       "287        116        115     Östhammar           22251           22250   \n",
       "288        160        159  Östra Göinge           15017           15007   \n",
       "289        284        284     Överkalix            3289            3315   \n",
       "290        279        279    Övertorneå            4217            4299   \n",
       "\n",
       "    Förändring  \n",
       "1     1.483982  \n",
       "2     0.439401  \n",
       "3     0.447005  \n",
       "4    -0.394276  \n",
       "5     -0.34074  \n",
       "..         ...  \n",
       "286    2.34783  \n",
       "287   0.004494  \n",
       "288   0.066636  \n",
       "289  -0.784314  \n",
       "290   -1.90742  \n",
       "\n",
       "[290 rows x 6 columns]"
      ]
     },
     "execution_count": 10,
     "metadata": {},
     "output_type": "execute_result"
    }
   ],
   "source": [
    "data_frame = df.drop(0, inplace=False)\n",
    "\n",
    "data_frame = data_frame.rename(\n",
    "    columns={\n",
    "        \"Rang\": \"Rang 2020\",\n",
    "        \"Unnamed: 1\": \"Rang 2019\",\n",
    "        \"Folkmängd 31 december\": \"Folkmängd 2020\",\n",
    "        \"Unnamed: 4\": \"Folkmängd 2019\",\n",
    "    }\n",
    ")\n",
    "\n",
    "data_frame\n"
   ]
  },
  {
   "cell_type": "markdown",
   "metadata": {},
   "source": [
    "### c) Sort the cities by population from largest to smallest."
   ]
  },
  {
   "cell_type": "code",
   "execution_count": 11,
   "metadata": {},
   "outputs": [
    {
     "data": {
      "text/html": [
       "<div>\n",
       "<style scoped>\n",
       "    .dataframe tbody tr th:only-of-type {\n",
       "        vertical-align: middle;\n",
       "    }\n",
       "\n",
       "    .dataframe tbody tr th {\n",
       "        vertical-align: top;\n",
       "    }\n",
       "\n",
       "    .dataframe thead th {\n",
       "        text-align: right;\n",
       "    }\n",
       "</style>\n",
       "<table border=\"1\" class=\"dataframe\">\n",
       "  <thead>\n",
       "    <tr style=\"text-align: right;\">\n",
       "      <th></th>\n",
       "      <th>Rang 2020</th>\n",
       "      <th>Rang 2019</th>\n",
       "      <th>Kommun</th>\n",
       "      <th>Folkmängd 2020</th>\n",
       "      <th>Folkmängd 2019</th>\n",
       "      <th>Förändring</th>\n",
       "    </tr>\n",
       "  </thead>\n",
       "  <tbody>\n",
       "    <tr>\n",
       "      <th>0</th>\n",
       "      <td>1</td>\n",
       "      <td>1</td>\n",
       "      <td>Stockholm</td>\n",
       "      <td>975551</td>\n",
       "      <td>974073</td>\n",
       "      <td>0.151734</td>\n",
       "    </tr>\n",
       "    <tr>\n",
       "      <th>1</th>\n",
       "      <td>2</td>\n",
       "      <td>2</td>\n",
       "      <td>Göteborg</td>\n",
       "      <td>583056</td>\n",
       "      <td>579281</td>\n",
       "      <td>0.65167</td>\n",
       "    </tr>\n",
       "    <tr>\n",
       "      <th>2</th>\n",
       "      <td>3</td>\n",
       "      <td>3</td>\n",
       "      <td>Malmö</td>\n",
       "      <td>347949</td>\n",
       "      <td>344166</td>\n",
       "      <td>1.099179</td>\n",
       "    </tr>\n",
       "    <tr>\n",
       "      <th>3</th>\n",
       "      <td>4</td>\n",
       "      <td>4</td>\n",
       "      <td>Uppsala</td>\n",
       "      <td>233839</td>\n",
       "      <td>230767</td>\n",
       "      <td>1.331213</td>\n",
       "    </tr>\n",
       "    <tr>\n",
       "      <th>4</th>\n",
       "      <td>5</td>\n",
       "      <td>5</td>\n",
       "      <td>Linköping</td>\n",
       "      <td>164616</td>\n",
       "      <td>163051</td>\n",
       "      <td>0.959822</td>\n",
       "    </tr>\n",
       "    <tr>\n",
       "      <th>...</th>\n",
       "      <td>...</td>\n",
       "      <td>...</td>\n",
       "      <td>...</td>\n",
       "      <td>...</td>\n",
       "      <td>...</td>\n",
       "      <td>...</td>\n",
       "    </tr>\n",
       "    <tr>\n",
       "      <th>285</th>\n",
       "      <td>286</td>\n",
       "      <td>286</td>\n",
       "      <td>Åsele</td>\n",
       "      <td>2805</td>\n",
       "      <td>2794</td>\n",
       "      <td>0.393701</td>\n",
       "    </tr>\n",
       "    <tr>\n",
       "      <th>286</th>\n",
       "      <td>287</td>\n",
       "      <td>287</td>\n",
       "      <td>Arjeplog</td>\n",
       "      <td>2718</td>\n",
       "      <td>2785</td>\n",
       "      <td>-2.405745</td>\n",
       "    </tr>\n",
       "    <tr>\n",
       "      <th>287</th>\n",
       "      <td>288</td>\n",
       "      <td>288</td>\n",
       "      <td>Dorotea</td>\n",
       "      <td>2498</td>\n",
       "      <td>2551</td>\n",
       "      <td>-2.077617</td>\n",
       "    </tr>\n",
       "    <tr>\n",
       "      <th>288</th>\n",
       "      <td>289</td>\n",
       "      <td>289</td>\n",
       "      <td>Sorsele</td>\n",
       "      <td>2442</td>\n",
       "      <td>2489</td>\n",
       "      <td>-1.888309</td>\n",
       "    </tr>\n",
       "    <tr>\n",
       "      <th>289</th>\n",
       "      <td>290</td>\n",
       "      <td>290</td>\n",
       "      <td>Bjurholm</td>\n",
       "      <td>2387</td>\n",
       "      <td>2408</td>\n",
       "      <td>-0.872093</td>\n",
       "    </tr>\n",
       "  </tbody>\n",
       "</table>\n",
       "<p>290 rows × 6 columns</p>\n",
       "</div>"
      ],
      "text/plain": [
       "     Rang 2020  Rang 2019     Kommun  Folkmängd 2020  Folkmängd 2019  \\\n",
       "0            1          1  Stockholm          975551          974073   \n",
       "1            2          2   Göteborg          583056          579281   \n",
       "2            3          3      Malmö          347949          344166   \n",
       "3            4          4    Uppsala          233839          230767   \n",
       "4            5          5  Linköping          164616          163051   \n",
       "..         ...        ...        ...             ...             ...   \n",
       "285        286        286      Åsele            2805            2794   \n",
       "286        287        287   Arjeplog            2718            2785   \n",
       "287        288        288    Dorotea            2498            2551   \n",
       "288        289        289    Sorsele            2442            2489   \n",
       "289        290        290   Bjurholm            2387            2408   \n",
       "\n",
       "    Förändring  \n",
       "0     0.151734  \n",
       "1      0.65167  \n",
       "2     1.099179  \n",
       "3     1.331213  \n",
       "4     0.959822  \n",
       "..         ...  \n",
       "285   0.393701  \n",
       "286  -2.405745  \n",
       "287  -2.077617  \n",
       "288  -1.888309  \n",
       "289  -0.872093  \n",
       "\n",
       "[290 rows x 6 columns]"
      ]
     },
     "execution_count": 11,
     "metadata": {},
     "output_type": "execute_result"
    }
   ],
   "source": [
    "sorted_citys = data_frame.sort_values(by=\"Folkmängd 2020\", ascending=False)\n",
    "sorted_citys.reset_index(drop=True, inplace=True)\n",
    "\n",
    "sorted_citys\n"
   ]
  },
  {
   "cell_type": "markdown",
   "metadata": {},
   "source": [
    "### d) Filter out the five smallest cities."
   ]
  },
  {
   "cell_type": "code",
   "execution_count": 12,
   "metadata": {},
   "outputs": [
    {
     "data": {
      "text/html": [
       "<div>\n",
       "<style scoped>\n",
       "    .dataframe tbody tr th:only-of-type {\n",
       "        vertical-align: middle;\n",
       "    }\n",
       "\n",
       "    .dataframe tbody tr th {\n",
       "        vertical-align: top;\n",
       "    }\n",
       "\n",
       "    .dataframe thead th {\n",
       "        text-align: right;\n",
       "    }\n",
       "</style>\n",
       "<table border=\"1\" class=\"dataframe\">\n",
       "  <thead>\n",
       "    <tr style=\"text-align: right;\">\n",
       "      <th></th>\n",
       "      <th>Rang 2020</th>\n",
       "      <th>Rang 2019</th>\n",
       "      <th>Kommun</th>\n",
       "      <th>Folkmängd 2020</th>\n",
       "      <th>Folkmängd 2019</th>\n",
       "      <th>Förändring</th>\n",
       "    </tr>\n",
       "  </thead>\n",
       "  <tbody>\n",
       "    <tr>\n",
       "      <th>289</th>\n",
       "      <td>290</td>\n",
       "      <td>290</td>\n",
       "      <td>Bjurholm</td>\n",
       "      <td>2387</td>\n",
       "      <td>2408</td>\n",
       "      <td>-0.872093</td>\n",
       "    </tr>\n",
       "    <tr>\n",
       "      <th>288</th>\n",
       "      <td>289</td>\n",
       "      <td>289</td>\n",
       "      <td>Sorsele</td>\n",
       "      <td>2442</td>\n",
       "      <td>2489</td>\n",
       "      <td>-1.888309</td>\n",
       "    </tr>\n",
       "    <tr>\n",
       "      <th>287</th>\n",
       "      <td>288</td>\n",
       "      <td>288</td>\n",
       "      <td>Dorotea</td>\n",
       "      <td>2498</td>\n",
       "      <td>2551</td>\n",
       "      <td>-2.077617</td>\n",
       "    </tr>\n",
       "    <tr>\n",
       "      <th>286</th>\n",
       "      <td>287</td>\n",
       "      <td>287</td>\n",
       "      <td>Arjeplog</td>\n",
       "      <td>2718</td>\n",
       "      <td>2785</td>\n",
       "      <td>-2.405745</td>\n",
       "    </tr>\n",
       "    <tr>\n",
       "      <th>285</th>\n",
       "      <td>286</td>\n",
       "      <td>286</td>\n",
       "      <td>Åsele</td>\n",
       "      <td>2805</td>\n",
       "      <td>2794</td>\n",
       "      <td>0.393701</td>\n",
       "    </tr>\n",
       "  </tbody>\n",
       "</table>\n",
       "</div>"
      ],
      "text/plain": [
       "     Rang 2020  Rang 2019    Kommun  Folkmängd 2020  Folkmängd 2019 Förändring\n",
       "289        290        290  Bjurholm            2387            2408  -0.872093\n",
       "288        289        289   Sorsele            2442            2489  -1.888309\n",
       "287        288        288   Dorotea            2498            2551  -2.077617\n",
       "286        287        287  Arjeplog            2718            2785  -2.405745\n",
       "285        286        286     Åsele            2805            2794   0.393701"
      ]
     },
     "execution_count": 12,
     "metadata": {},
     "output_type": "execute_result"
    }
   ],
   "source": [
    "bottom5_citys = sorted_citys[:-6:-1]\n",
    "bottom5_citys\n"
   ]
  },
  {
   "cell_type": "markdown",
   "metadata": {},
   "source": [
    "### e) Use the DataFrame to calculate Sweden's population in 2019 and 2020."
   ]
  },
  {
   "cell_type": "code",
   "execution_count": 13,
   "metadata": {},
   "outputs": [
    {
     "name": "stdout",
     "output_type": "stream",
     "text": [
      "10327589\n",
      "10379295\n"
     ]
    }
   ],
   "source": [
    "swe_population_2019 = data_frame[\"Folkmängd 2019\"].sum()\n",
    "swe_population_2020 = data_frame[\"Folkmängd 2020\"].sum()\n",
    "\n",
    "print(swe_population_2019)\n",
    "print(swe_population_2020)\n"
   ]
  },
  {
   "cell_type": "markdown",
   "metadata": {},
   "source": [
    "### f) Plot a bar chart for the five largest cities and the five smallest cities."
   ]
  },
  {
   "cell_type": "code",
   "execution_count": 14,
   "metadata": {},
   "outputs": [
    {
     "data": {
      "text/plain": [
       "<AxesSubplot: xlabel='Kommun', ylabel='Folkmängd 2020'>"
      ]
     },
     "execution_count": 14,
     "metadata": {},
     "output_type": "execute_result"
    },
    {
     "data": {
      "image/png": "[encoded data removed]",
      "text/plain": [
       "<Figure size 1920x480 with 2 Axes>"
      ]
     },
     "metadata": {},
     "output_type": "display_data"
    }
   ],
   "source": [
    "import seaborn as sns\n",
    "import matplotlib.pyplot as plt\n",
    "\n",
    "fig, axes = plt.subplots(1, 2, figsize=(16, 4), dpi=120)\n",
    "\n",
    "five_max_citys = sorted_citys.head()\n",
    "five_min_citys = sorted_citys[:-6:-1]\n",
    "\n",
    "sns.barplot(\n",
    "    data=five_max_citys,\n",
    "    x=five_max_citys[\"Kommun\"],\n",
    "    y=five_max_citys[\"Folkmängd 2020\"],\n",
    "    ax=axes[0],\n",
    ")\n",
    "sns.barplot(\n",
    "    data=five_min_citys,\n",
    "    x=five_min_citys[\"Kommun\"],\n",
    "    y=five_min_citys[\"Folkmängd 2020\"],\n",
    "    ax=axes[1],\n",
    ")\n"
   ]
  },
  {
   "cell_type": "markdown",
   "metadata": {},
   "source": [
    "# 3. Cities in Sweden - gender\n",
    "\n",
    "We continue with the same Excel-file as in task 2, but now you should also read in the sheets \"Kvinnor\" and \"Män\" into two additional DataFrames. In this task, many operations are similar to all three datasets, try creating custom made functions to reuse as much code as possible."
   ]
  },
  {
   "cell_type": "code",
   "execution_count": 15,
   "metadata": {},
   "outputs": [],
   "source": [
    "df_total = data_frame\n",
    "\n",
    "file_path = \"../Data/komtopp50_2020.xlsx\"\n",
    "sheet_names = [\"Män\", \"Kvinnor\"]\n",
    "\n",
    "df_dict = pd.read_excel(file_path, sheet_name=sheet_names, header=6)\n"
   ]
  },
  {
   "cell_type": "markdown",
   "metadata": {},
   "source": [
    "### a) Clean your data so that the head looks like this:"
   ]
  },
  {
   "cell_type": "code",
   "execution_count": 16,
   "metadata": {},
   "outputs": [],
   "source": [
    "\n",
    "\n",
    "columns_names = [\n",
    "    \"Rang 2020\",\n",
    "    \"Rang 2019\",\n",
    "    \"Kommun\",\n",
    "    \"Folkmängd 2020\",\n",
    "    \"Folkmängd 2019\",\n",
    "    \"Förändring\"\n",
    "]\n",
    "\n",
    "for key, value in df_dict.items():\n",
    "\n",
    "    for i, n in enumerate(value.columns):\n",
    "\n",
    "        value.rename(columns={n: columns_names[i]}, inplace=True)\n",
    "\n",
    "    value[\"Kön\"] = key\n",
    "\n",
    "\n"
   ]
  },
  {
   "cell_type": "markdown",
   "metadata": {},
   "source": [
    "### b) Merge the male and female DataFrames vertically and set index to \"Kommun\". Note that there now should be 580 rows now. \n",
    "\n",
    "|    | Kommun   |   Total Pop 2020 |   Total Pop 2019 |   Total förändring |\n",
    "|---:|:---------|-----------------:|-----------------:|-------------------:|\n",
    "|  0 | Ale      |            31868 |            31402 |           1.48398  |\n",
    "|  1 | Alingsås |            41602 |            41420 |           0.439401 |\n",
    "|  2 | Alvesta  |            20224 |            20134 |           0.447005 |\n",
    "|  3 | Aneby    |             6821 |             6848 |          -0.394276 |\n",
    "|  4 | Arboga   |            14039 |            14087 |          -0.34074  |\n"
   ]
  },
  {
   "cell_type": "code",
   "execution_count": 17,
   "metadata": {},
   "outputs": [],
   "source": [
    "df = pd.concat([df_dict[\"Män\"], df_dict[\"Kvinnor\"]], axis=0)\n",
    "df.drop([\"Rang 2020\", \"Rang 2019\"], axis= \"columns\", inplace= True)\n"
   ]
  },
  {
   "cell_type": "markdown",
   "metadata": {},
   "source": [
    "### c) Extract and change column name from the total DataFrame so that the head look like this:\n"
   ]
  },
  {
   "cell_type": "code",
   "execution_count": 18,
   "metadata": {},
   "outputs": [],
   "source": [
    "df_total = df_total.rename(\n",
    "    columns={\n",
    "        \"Folkmängd 2020\": \"Total pop 2020\",\n",
    "        \"Folkmängd 2019\": \"Total pop 2019\",\n",
    "        \"Förändring\": \"Total förändring\"\n",
    "    }\n",
    "    \n",
    ").drop([\"Rang 2020\", \"Rang 2019\"], axis=\"columns\")\n",
    "\n",
    "\n"
   ]
  },
  {
   "cell_type": "markdown",
   "metadata": {},
   "source": [
    "### d) Merge this data with the data in b) so that the head look like this:\n",
    "\n",
    "| Kommun    |   Folkmängd 2020 |   Folkmängd 2019 |   Förändring | Kön    |   Total Pop 2020 |   Total Pop 2019 |   Total förändring |\n",
    "|:----------|-----------------:|-----------------:|-------------:|:-------|-----------------:|-----------------:|-------------------:|\n",
    "| Stockholm |           482982 |           482220 |     0.158019 | Man    |           975551 |           974073 |           0.151734 |\n",
    "| Stockholm |           492569 |           491853 |     0.145572 | Kvinna |           975551 |           974073 |           0.151734 |\n",
    "| Göteborg  |           292505 |           290308 |     0.756782 | Man    |           583056 |           579281 |           0.65167  |\n",
    "| Göteborg  |           290551 |           288973 |     0.546072 | Kvinna |           583056 |           579281 |           0.65167  |\n",
    "| Malmö     |           175411 |           173543 |     1.07639  | Kvinna |           347949 |           344166 |           1.09918  |"
   ]
  },
  {
   "cell_type": "code",
   "execution_count": 19,
   "metadata": {},
   "outputs": [],
   "source": [
    "df = df.merge(df_total).sort_values(by= \"Total pop 2020\", ascending= False).reset_index(drop= True)\n"
   ]
  },
  {
   "cell_type": "code",
   "execution_count": 20,
   "metadata": {},
   "outputs": [
    {
     "data": {
      "text/html": [
       "<div>\n",
       "<style scoped>\n",
       "    .dataframe tbody tr th:only-of-type {\n",
       "        vertical-align: middle;\n",
       "    }\n",
       "\n",
       "    .dataframe tbody tr th {\n",
       "        vertical-align: top;\n",
       "    }\n",
       "\n",
       "    .dataframe thead th {\n",
       "        text-align: right;\n",
       "    }\n",
       "</style>\n",
       "<table border=\"1\" class=\"dataframe\">\n",
       "  <thead>\n",
       "    <tr style=\"text-align: right;\">\n",
       "      <th></th>\n",
       "      <th>Kommun</th>\n",
       "      <th>Folkmängd 2020</th>\n",
       "      <th>Folkmängd 2019</th>\n",
       "      <th>Förändring</th>\n",
       "      <th>Kön</th>\n",
       "      <th>Total pop 2020</th>\n",
       "      <th>Total pop 2019</th>\n",
       "      <th>Total förändring</th>\n",
       "    </tr>\n",
       "  </thead>\n",
       "  <tbody>\n",
       "    <tr>\n",
       "      <th>0</th>\n",
       "      <td>Stockholm</td>\n",
       "      <td>482982</td>\n",
       "      <td>482220</td>\n",
       "      <td>0.158019</td>\n",
       "      <td>Män</td>\n",
       "      <td>975551</td>\n",
       "      <td>974073</td>\n",
       "      <td>0.151734</td>\n",
       "    </tr>\n",
       "    <tr>\n",
       "      <th>1</th>\n",
       "      <td>Stockholm</td>\n",
       "      <td>492569</td>\n",
       "      <td>491853</td>\n",
       "      <td>0.145572</td>\n",
       "      <td>Kvinnor</td>\n",
       "      <td>975551</td>\n",
       "      <td>974073</td>\n",
       "      <td>0.151734</td>\n",
       "    </tr>\n",
       "    <tr>\n",
       "      <th>2</th>\n",
       "      <td>Göteborg</td>\n",
       "      <td>290551</td>\n",
       "      <td>288973</td>\n",
       "      <td>0.546072</td>\n",
       "      <td>Kvinnor</td>\n",
       "      <td>583056</td>\n",
       "      <td>579281</td>\n",
       "      <td>0.65167</td>\n",
       "    </tr>\n",
       "    <tr>\n",
       "      <th>3</th>\n",
       "      <td>Göteborg</td>\n",
       "      <td>292505</td>\n",
       "      <td>290308</td>\n",
       "      <td>0.756782</td>\n",
       "      <td>Män</td>\n",
       "      <td>583056</td>\n",
       "      <td>579281</td>\n",
       "      <td>0.65167</td>\n",
       "    </tr>\n",
       "    <tr>\n",
       "      <th>4</th>\n",
       "      <td>Malmö</td>\n",
       "      <td>175411</td>\n",
       "      <td>173543</td>\n",
       "      <td>1.07639</td>\n",
       "      <td>Kvinnor</td>\n",
       "      <td>347949</td>\n",
       "      <td>344166</td>\n",
       "      <td>1.099179</td>\n",
       "    </tr>\n",
       "    <tr>\n",
       "      <th>...</th>\n",
       "      <td>...</td>\n",
       "      <td>...</td>\n",
       "      <td>...</td>\n",
       "      <td>...</td>\n",
       "      <td>...</td>\n",
       "      <td>...</td>\n",
       "      <td>...</td>\n",
       "      <td>...</td>\n",
       "    </tr>\n",
       "    <tr>\n",
       "      <th>575</th>\n",
       "      <td>Dorotea</td>\n",
       "      <td>1171</td>\n",
       "      <td>1195</td>\n",
       "      <td>-2.008368</td>\n",
       "      <td>Kvinnor</td>\n",
       "      <td>2498</td>\n",
       "      <td>2551</td>\n",
       "      <td>-2.077617</td>\n",
       "    </tr>\n",
       "    <tr>\n",
       "      <th>576</th>\n",
       "      <td>Sorsele</td>\n",
       "      <td>1285</td>\n",
       "      <td>1319</td>\n",
       "      <td>-2.57771</td>\n",
       "      <td>Män</td>\n",
       "      <td>2442</td>\n",
       "      <td>2489</td>\n",
       "      <td>-1.888309</td>\n",
       "    </tr>\n",
       "    <tr>\n",
       "      <th>577</th>\n",
       "      <td>Sorsele</td>\n",
       "      <td>1157</td>\n",
       "      <td>1170</td>\n",
       "      <td>-1.111111</td>\n",
       "      <td>Kvinnor</td>\n",
       "      <td>2442</td>\n",
       "      <td>2489</td>\n",
       "      <td>-1.888309</td>\n",
       "    </tr>\n",
       "    <tr>\n",
       "      <th>578</th>\n",
       "      <td>Bjurholm</td>\n",
       "      <td>1154</td>\n",
       "      <td>1159</td>\n",
       "      <td>-0.431406</td>\n",
       "      <td>Kvinnor</td>\n",
       "      <td>2387</td>\n",
       "      <td>2408</td>\n",
       "      <td>-0.872093</td>\n",
       "    </tr>\n",
       "    <tr>\n",
       "      <th>579</th>\n",
       "      <td>Bjurholm</td>\n",
       "      <td>1233</td>\n",
       "      <td>1249</td>\n",
       "      <td>-1.281025</td>\n",
       "      <td>Män</td>\n",
       "      <td>2387</td>\n",
       "      <td>2408</td>\n",
       "      <td>-0.872093</td>\n",
       "    </tr>\n",
       "  </tbody>\n",
       "</table>\n",
       "<p>580 rows × 8 columns</p>\n",
       "</div>"
      ],
      "text/plain": [
       "        Kommun  Folkmängd 2020  Folkmängd 2019 Förändring      Kön  \\\n",
       "0    Stockholm          482982          482220   0.158019      Män   \n",
       "1    Stockholm          492569          491853   0.145572  Kvinnor   \n",
       "2     Göteborg          290551          288973   0.546072  Kvinnor   \n",
       "3     Göteborg          292505          290308   0.756782      Män   \n",
       "4        Malmö          175411          173543    1.07639  Kvinnor   \n",
       "..         ...             ...             ...        ...      ...   \n",
       "575    Dorotea            1171            1195  -2.008368  Kvinnor   \n",
       "576    Sorsele            1285            1319   -2.57771      Män   \n",
       "577    Sorsele            1157            1170  -1.111111  Kvinnor   \n",
       "578   Bjurholm            1154            1159  -0.431406  Kvinnor   \n",
       "579   Bjurholm            1233            1249  -1.281025      Män   \n",
       "\n",
       "     Total pop 2020  Total pop 2019 Total förändring  \n",
       "0            975551          974073         0.151734  \n",
       "1            975551          974073         0.151734  \n",
       "2            583056          579281          0.65167  \n",
       "3            583056          579281          0.65167  \n",
       "4            347949          344166         1.099179  \n",
       "..              ...             ...              ...  \n",
       "575            2498            2551        -2.077617  \n",
       "576            2442            2489        -1.888309  \n",
       "577            2442            2489        -1.888309  \n",
       "578            2387            2408        -0.872093  \n",
       "579            2387            2408        -0.872093  \n",
       "\n",
       "[580 rows x 8 columns]"
      ]
     },
     "execution_count": 20,
     "metadata": {},
     "output_type": "execute_result"
    }
   ],
   "source": [
    "df"
   ]
  },
  {
   "cell_type": "markdown",
   "metadata": {},
   "source": [
    "### e) Create barplots showing the gender populations of Swedens 10 largest and 10 smallest cities."
   ]
  },
  {
   "cell_type": "code",
   "execution_count": 24,
   "metadata": {},
   "outputs": [
    {
     "data": {
      "image/png": "[encoded data removed]",
      "text/plain": [
       "<Figure size 1920x480 with 2 Axes>"
      ]
     },
     "metadata": {},
     "output_type": "display_data"
    }
   ],
   "source": [
    "data = [df.head(20), df.tail(20)]\n",
    "\n",
    "fig, ax = plt.subplots(1,2, figsize= (16, 4), dpi= 120)\n",
    "\n",
    "titles = [\"Swedens 10 largest cities by population\", \"Swedens 10 smallest cities by population\"]\n",
    "\n",
    "for i in range(len(data)):\n",
    "    sns.barplot(data= data[i], x=\"Folkmängd 2020\", y= \"Kommun\", hue= \"Kön\", ax= ax[i])\n",
    "    ax[i].set(title= titles[i])\n"
   ]
  },
  {
   "cell_type": "markdown",
   "metadata": {},
   "source": [
    "### f) Create a pie chart showing the total male and female population in Sweden 2020."
   ]
  },
  {
   "cell_type": "code",
   "execution_count": 32,
   "metadata": {},
   "outputs": [
    {
     "data": {
      "image/png": "[encoded data removed]",
      "text/plain": [
       "<Figure size 640x480 with 1 Axes>"
      ]
     },
     "metadata": {},
     "output_type": "display_data"
    }
   ],
   "source": [
    "x = df.groupby(\"Kön\").sum(\"Folkmängd 2020\")\n",
    "\n",
    "plt.pie(x= x[\"Folkmängd 2020\"], labels=x.index, autopct=\"%0.1f%%\", startangle=90);\n",
    "\n"
   ]
  },
  {
   "cell_type": "markdown",
   "metadata": {},
   "source": [
    "### g) Create a barplot showing the cities with the five largest percentual gender difference in 2020."
   ]
  },
  {
   "cell_type": "code",
   "execution_count": 45,
   "metadata": {},
   "outputs": [
    {
     "name": "stderr",
     "output_type": "stream",
     "text": [
      "/var/folders/w6/9wz8n7td61q6jtrxd3n0f9l00000gn/T/ipykernel_5875/1666039534.py:4: FutureWarning: The default value of numeric_only in DataFrameGroupBy.sum is deprecated. In a future version, numeric_only will default to False. Either specify numeric_only or select only columns which should be valid for the function.\n",
      "  g = df.groupby(\"Kommun\")[[\"Kön\", \"Folkmängd 2020\"]].sum()\n"
     ]
    },
    {
     "data": {
      "text/html": [
       "<div>\n",
       "<style scoped>\n",
       "    .dataframe tbody tr th:only-of-type {\n",
       "        vertical-align: middle;\n",
       "    }\n",
       "\n",
       "    .dataframe tbody tr th {\n",
       "        vertical-align: top;\n",
       "    }\n",
       "\n",
       "    .dataframe thead th {\n",
       "        text-align: right;\n",
       "    }\n",
       "</style>\n",
       "<table border=\"1\" class=\"dataframe\">\n",
       "  <thead>\n",
       "    <tr style=\"text-align: right;\">\n",
       "      <th></th>\n",
       "      <th>Folkmängd 2020</th>\n",
       "    </tr>\n",
       "    <tr>\n",
       "      <th>Kommun</th>\n",
       "      <th></th>\n",
       "    </tr>\n",
       "  </thead>\n",
       "  <tbody>\n",
       "    <tr>\n",
       "      <th>0.0</th>\n",
       "      <td>0</td>\n",
       "    </tr>\n",
       "    <tr>\n",
       "      <th>Ale</th>\n",
       "      <td>31868</td>\n",
       "    </tr>\n",
       "    <tr>\n",
       "      <th>Alingsås</th>\n",
       "      <td>41602</td>\n",
       "    </tr>\n",
       "    <tr>\n",
       "      <th>Alvesta</th>\n",
       "      <td>20224</td>\n",
       "    </tr>\n",
       "    <tr>\n",
       "      <th>Aneby</th>\n",
       "      <td>6821</td>\n",
       "    </tr>\n",
       "    <tr>\n",
       "      <th>...</th>\n",
       "      <td>...</td>\n",
       "    </tr>\n",
       "    <tr>\n",
       "      <th>Österåker</th>\n",
       "      <td>46644</td>\n",
       "    </tr>\n",
       "    <tr>\n",
       "      <th>Östhammar</th>\n",
       "      <td>22251</td>\n",
       "    </tr>\n",
       "    <tr>\n",
       "      <th>Östra Göinge</th>\n",
       "      <td>15017</td>\n",
       "    </tr>\n",
       "    <tr>\n",
       "      <th>Överkalix</th>\n",
       "      <td>3289</td>\n",
       "    </tr>\n",
       "    <tr>\n",
       "      <th>Övertorneå</th>\n",
       "      <td>4217</td>\n",
       "    </tr>\n",
       "  </tbody>\n",
       "</table>\n",
       "<p>291 rows × 1 columns</p>\n",
       "</div>"
      ],
      "text/plain": [
       "              Folkmängd 2020\n",
       "Kommun                      \n",
       "0.0                        0\n",
       "Ale                    31868\n",
       "Alingsås               41602\n",
       "Alvesta                20224\n",
       "Aneby                   6821\n",
       "...                      ...\n",
       "Österåker              46644\n",
       "Östhammar              22251\n",
       "Östra Göinge           15017\n",
       "Överkalix               3289\n",
       "Övertorneå              4217\n",
       "\n",
       "[291 rows x 1 columns]"
      ]
     },
     "execution_count": 45,
     "metadata": {},
     "output_type": "execute_result"
    }
   ],
   "source": [
    "df[df[\"Förändring\"] == \".\"] = 0.0\n",
    "df[\"Förändring\"] = df[\"Förändring\"].astype(float)\n",
    "\n",
    "g = df.groupby(\"Kommun\")[[\"Kön\", \"Folkmängd 2020\"]].sum()\n",
    "\n",
    "g\n",
    "\n"
   ]
  },
  {
   "cell_type": "code",
   "execution_count": null,
   "metadata": {},
   "outputs": [],
   "source": []
  }
 ],
 "metadata": {
  "kernelspec": {
   "display_name": "Python 3.9.12 ('Databehandling-Philip-de-Canesie-AszKEhNC')",
   "language": "python",
   "name": "python3"
  },
  "language_info": {
   "codemirror_mode": {
    "name": "ipython",
    "version": 3
   },
   "file_extension": ".py",
   "mimetype": "text/x-python",
   "name": "python",
   "nbconvert_exporter": "python",
   "pygments_lexer": "ipython3",
   "version": "3.9.12"
  },
  "orig_nbformat": 4,
  "vscode": {
   "interpreter": {
    "hash": "c5e1d3ddff0bcc26da5138dc064c3f402c309669e27daf64f64792089bd10226"
   }
  }
 },
 "nbformat": 4,
 "nbformat_minor": 2
}
