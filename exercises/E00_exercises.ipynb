{
 "cells": [
  {
   "cell_type": "markdown",
   "metadata": {},
   "source": [
    "# 1. Cities in Sweden - create dataset"
   ]
  },
  {
   "cell_type": "markdown",
   "metadata": {},
   "source": [
    "- Create this DataFrame from scratch:"
   ]
  },
  {
   "cell_type": "code",
   "execution_count": 28,
   "metadata": {},
   "outputs": [
    {
     "data": {
      "text/html": [
       "<div>\n",
       "<style scoped>\n",
       "    .dataframe tbody tr th:only-of-type {\n",
       "        vertical-align: middle;\n",
       "    }\n",
       "\n",
       "    .dataframe tbody tr th {\n",
       "        vertical-align: top;\n",
       "    }\n",
       "\n",
       "    .dataframe thead th {\n",
       "        text-align: right;\n",
       "    }\n",
       "</style>\n",
       "<table border=\"1\" class=\"dataframe\">\n",
       "  <thead>\n",
       "    <tr style=\"text-align: right;\">\n",
       "      <th></th>\n",
       "      <th>Kommun</th>\n",
       "      <th>Population</th>\n",
       "    </tr>\n",
       "  </thead>\n",
       "  <tbody>\n",
       "    <tr>\n",
       "      <th>0</th>\n",
       "      <td>Malmö</td>\n",
       "      <td>347949</td>\n",
       "    </tr>\n",
       "    <tr>\n",
       "      <th>1</th>\n",
       "      <td>Stockholm</td>\n",
       "      <td>975551</td>\n",
       "    </tr>\n",
       "    <tr>\n",
       "      <th>2</th>\n",
       "      <td>Uppsala</td>\n",
       "      <td>233839</td>\n",
       "    </tr>\n",
       "    <tr>\n",
       "      <th>3</th>\n",
       "      <td>Göteborg</td>\n",
       "      <td>583056</td>\n",
       "    </tr>\n",
       "  </tbody>\n",
       "</table>\n",
       "</div>"
      ],
      "text/plain": [
       "      Kommun  Population\n",
       "0      Malmö      347949\n",
       "1  Stockholm      975551\n",
       "2    Uppsala      233839\n",
       "3   Göteborg      583056"
      ]
     },
     "execution_count": 28,
     "metadata": {},
     "output_type": "execute_result"
    }
   ],
   "source": [
    "import pandas as pd\n",
    "\n",
    "data = pd.Series(\n",
    "    {\"Malmö\": 347949, \"Stockholm\": 975551, \"Uppsala\": 233839, \"Göteborg\": 583056}\n",
    ")\n",
    "\n",
    "df = pd.DataFrame({\"Kommun\": data.keys(), \"Population\": data.values})\n",
    "\n",
    "df\n"
   ]
  },
  {
   "cell_type": "markdown",
   "metadata": {},
   "source": [
    "###  a) Use your DataFrame to print out all the cities. "
   ]
  },
  {
   "cell_type": "code",
   "execution_count": 29,
   "metadata": {},
   "outputs": [
    {
     "data": {
      "text/plain": [
       "0        Malmö\n",
       "1    Stockholm\n",
       "2      Uppsala\n",
       "3     Göteborg\n",
       "Name: Kommun, dtype: object"
      ]
     },
     "execution_count": 29,
     "metadata": {},
     "output_type": "execute_result"
    }
   ],
   "source": [
    "df[\"Kommun\"]\n"
   ]
  },
  {
   "cell_type": "markdown",
   "metadata": {},
   "source": [
    "### b) Select only the row which contains Göteborg. Do this by using the name Göteborg."
   ]
  },
  {
   "cell_type": "code",
   "execution_count": 30,
   "metadata": {},
   "outputs": [
    {
     "data": {
      "text/html": [
       "<div>\n",
       "<style scoped>\n",
       "    .dataframe tbody tr th:only-of-type {\n",
       "        vertical-align: middle;\n",
       "    }\n",
       "\n",
       "    .dataframe tbody tr th {\n",
       "        vertical-align: top;\n",
       "    }\n",
       "\n",
       "    .dataframe thead th {\n",
       "        text-align: right;\n",
       "    }\n",
       "</style>\n",
       "<table border=\"1\" class=\"dataframe\">\n",
       "  <thead>\n",
       "    <tr style=\"text-align: right;\">\n",
       "      <th></th>\n",
       "      <th>Kommun</th>\n",
       "      <th>Population</th>\n",
       "    </tr>\n",
       "  </thead>\n",
       "  <tbody>\n",
       "    <tr>\n",
       "      <th>3</th>\n",
       "      <td>Göteborg</td>\n",
       "      <td>583056</td>\n",
       "    </tr>\n",
       "  </tbody>\n",
       "</table>\n",
       "</div>"
      ],
      "text/plain": [
       "     Kommun  Population\n",
       "3  Göteborg      583056"
      ]
     },
     "execution_count": 30,
     "metadata": {},
     "output_type": "execute_result"
    }
   ],
   "source": [
    "df.loc[df[\"Kommun\"] == \"Göteborg\"]\n"
   ]
  },
  {
   "cell_type": "markdown",
   "metadata": {},
   "source": [
    "### c) Sort the cities by population from largest to smallest. "
   ]
  },
  {
   "cell_type": "code",
   "execution_count": 31,
   "metadata": {},
   "outputs": [
    {
     "data": {
      "text/html": [
       "<div>\n",
       "<style scoped>\n",
       "    .dataframe tbody tr th:only-of-type {\n",
       "        vertical-align: middle;\n",
       "    }\n",
       "\n",
       "    .dataframe tbody tr th {\n",
       "        vertical-align: top;\n",
       "    }\n",
       "\n",
       "    .dataframe thead th {\n",
       "        text-align: right;\n",
       "    }\n",
       "</style>\n",
       "<table border=\"1\" class=\"dataframe\">\n",
       "  <thead>\n",
       "    <tr style=\"text-align: right;\">\n",
       "      <th></th>\n",
       "      <th>Kommun</th>\n",
       "      <th>Population</th>\n",
       "    </tr>\n",
       "  </thead>\n",
       "  <tbody>\n",
       "    <tr>\n",
       "      <th>1</th>\n",
       "      <td>Stockholm</td>\n",
       "      <td>975551</td>\n",
       "    </tr>\n",
       "    <tr>\n",
       "      <th>3</th>\n",
       "      <td>Göteborg</td>\n",
       "      <td>583056</td>\n",
       "    </tr>\n",
       "    <tr>\n",
       "      <th>0</th>\n",
       "      <td>Malmö</td>\n",
       "      <td>347949</td>\n",
       "    </tr>\n",
       "    <tr>\n",
       "      <th>2</th>\n",
       "      <td>Uppsala</td>\n",
       "      <td>233839</td>\n",
       "    </tr>\n",
       "  </tbody>\n",
       "</table>\n",
       "</div>"
      ],
      "text/plain": [
       "      Kommun  Population\n",
       "1  Stockholm      975551\n",
       "3   Göteborg      583056\n",
       "0      Malmö      347949\n",
       "2    Uppsala      233839"
      ]
     },
     "execution_count": 31,
     "metadata": {},
     "output_type": "execute_result"
    }
   ],
   "source": [
    "sorted_citys = df.sort_values(by=\"Population\", ascending=False)\n",
    "sorted_citys\n"
   ]
  },
  {
   "cell_type": "markdown",
   "metadata": {},
   "source": [
    "### d) Filter out the three largest cities."
   ]
  },
  {
   "cell_type": "code",
   "execution_count": 32,
   "metadata": {},
   "outputs": [
    {
     "data": {
      "text/html": [
       "<div>\n",
       "<style scoped>\n",
       "    .dataframe tbody tr th:only-of-type {\n",
       "        vertical-align: middle;\n",
       "    }\n",
       "\n",
       "    .dataframe tbody tr th {\n",
       "        vertical-align: top;\n",
       "    }\n",
       "\n",
       "    .dataframe thead th {\n",
       "        text-align: right;\n",
       "    }\n",
       "</style>\n",
       "<table border=\"1\" class=\"dataframe\">\n",
       "  <thead>\n",
       "    <tr style=\"text-align: right;\">\n",
       "      <th></th>\n",
       "      <th>Kommun</th>\n",
       "      <th>Population</th>\n",
       "    </tr>\n",
       "  </thead>\n",
       "  <tbody>\n",
       "    <tr>\n",
       "      <th>1</th>\n",
       "      <td>Stockholm</td>\n",
       "      <td>975551</td>\n",
       "    </tr>\n",
       "    <tr>\n",
       "      <th>3</th>\n",
       "      <td>Göteborg</td>\n",
       "      <td>583056</td>\n",
       "    </tr>\n",
       "    <tr>\n",
       "      <th>0</th>\n",
       "      <td>Malmö</td>\n",
       "      <td>347949</td>\n",
       "    </tr>\n",
       "  </tbody>\n",
       "</table>\n",
       "</div>"
      ],
      "text/plain": [
       "      Kommun  Population\n",
       "1  Stockholm      975551\n",
       "3   Göteborg      583056\n",
       "0      Malmö      347949"
      ]
     },
     "execution_count": 32,
     "metadata": {},
     "output_type": "execute_result"
    }
   ],
   "source": [
    "sorted_citys.head(3)\n"
   ]
  },
  {
   "cell_type": "markdown",
   "metadata": {},
   "source": [
    "### e) The whole population in Sweden 2020 is 10379295. Use this number to create a new column in your sorted DataFrame named: Population (%). This column should be filled with percentage of the Swedish population for each city."
   ]
  },
  {
   "cell_type": "code",
   "execution_count": 33,
   "metadata": {},
   "outputs": [
    {
     "data": {
      "text/html": [
       "<div>\n",
       "<style scoped>\n",
       "    .dataframe tbody tr th:only-of-type {\n",
       "        vertical-align: middle;\n",
       "    }\n",
       "\n",
       "    .dataframe tbody tr th {\n",
       "        vertical-align: top;\n",
       "    }\n",
       "\n",
       "    .dataframe thead th {\n",
       "        text-align: right;\n",
       "    }\n",
       "</style>\n",
       "<table border=\"1\" class=\"dataframe\">\n",
       "  <thead>\n",
       "    <tr style=\"text-align: right;\">\n",
       "      <th></th>\n",
       "      <th>Kommun</th>\n",
       "      <th>Population</th>\n",
       "      <th>Population (%)</th>\n",
       "    </tr>\n",
       "  </thead>\n",
       "  <tbody>\n",
       "    <tr>\n",
       "      <th>1</th>\n",
       "      <td>Stockholm</td>\n",
       "      <td>975551</td>\n",
       "      <td>9.4</td>\n",
       "    </tr>\n",
       "    <tr>\n",
       "      <th>3</th>\n",
       "      <td>Göteborg</td>\n",
       "      <td>583056</td>\n",
       "      <td>5.6</td>\n",
       "    </tr>\n",
       "    <tr>\n",
       "      <th>0</th>\n",
       "      <td>Malmö</td>\n",
       "      <td>347949</td>\n",
       "      <td>3.4</td>\n",
       "    </tr>\n",
       "    <tr>\n",
       "      <th>2</th>\n",
       "      <td>Uppsala</td>\n",
       "      <td>233839</td>\n",
       "      <td>2.3</td>\n",
       "    </tr>\n",
       "  </tbody>\n",
       "</table>\n",
       "</div>"
      ],
      "text/plain": [
       "      Kommun  Population  Population (%)\n",
       "1  Stockholm      975551             9.4\n",
       "3   Göteborg      583056             5.6\n",
       "0      Malmö      347949             3.4\n",
       "2    Uppsala      233839             2.3"
      ]
     },
     "execution_count": 33,
     "metadata": {},
     "output_type": "execute_result"
    }
   ],
   "source": [
    "sorted_citys[\"Population (%)\"] = round((sorted_citys[\"Population\"] / 10379295) * 100, 1)\n",
    "sorted_citys\n"
   ]
  },
  {
   "cell_type": "markdown",
   "metadata": {},
   "source": [
    "# 2. Cities in Sweden - real dataset"
   ]
  },
  {
   "cell_type": "markdown",
   "metadata": {},
   "source": [
    "### a) Read in the tab \"Totalt\" into a DataFrame and start exploring the data with some simple explorations such as\n",
    "\n",
    "- df.head()\n",
    "- df.info()\n",
    "- df.describe()"
   ]
  },
  {
   "cell_type": "code",
   "execution_count": 34,
   "metadata": {},
   "outputs": [
    {
     "data": {
      "text/html": [
       "<div>\n",
       "<style scoped>\n",
       "    .dataframe tbody tr th:only-of-type {\n",
       "        vertical-align: middle;\n",
       "    }\n",
       "\n",
       "    .dataframe tbody tr th {\n",
       "        vertical-align: top;\n",
       "    }\n",
       "\n",
       "    .dataframe thead th {\n",
       "        text-align: right;\n",
       "    }\n",
       "</style>\n",
       "<table border=\"1\" class=\"dataframe\">\n",
       "  <thead>\n",
       "    <tr style=\"text-align: right;\">\n",
       "      <th></th>\n",
       "      <th>Rang</th>\n",
       "      <th>Unnamed: 1</th>\n",
       "      <th>Kommun</th>\n",
       "      <th>Folkmängd 31 december</th>\n",
       "      <th>Unnamed: 4</th>\n",
       "      <th>Förändring</th>\n",
       "    </tr>\n",
       "  </thead>\n",
       "  <tbody>\n",
       "    <tr>\n",
       "      <th>0</th>\n",
       "      <td>2020</td>\n",
       "      <td>2019</td>\n",
       "      <td>NaN</td>\n",
       "      <td>2020</td>\n",
       "      <td>2019</td>\n",
       "      <td>%</td>\n",
       "    </tr>\n",
       "    <tr>\n",
       "      <th>1</th>\n",
       "      <td>83</td>\n",
       "      <td>84</td>\n",
       "      <td>Ale</td>\n",
       "      <td>31868</td>\n",
       "      <td>31402</td>\n",
       "      <td>1.483982</td>\n",
       "    </tr>\n",
       "    <tr>\n",
       "      <th>2</th>\n",
       "      <td>64</td>\n",
       "      <td>64</td>\n",
       "      <td>Alingsås</td>\n",
       "      <td>41602</td>\n",
       "      <td>41420</td>\n",
       "      <td>0.439401</td>\n",
       "    </tr>\n",
       "    <tr>\n",
       "      <th>3</th>\n",
       "      <td>123</td>\n",
       "      <td>123</td>\n",
       "      <td>Alvesta</td>\n",
       "      <td>20224</td>\n",
       "      <td>20134</td>\n",
       "      <td>0.447005</td>\n",
       "    </tr>\n",
       "    <tr>\n",
       "      <th>4</th>\n",
       "      <td>255</td>\n",
       "      <td>255</td>\n",
       "      <td>Aneby</td>\n",
       "      <td>6821</td>\n",
       "      <td>6848</td>\n",
       "      <td>-0.394276</td>\n",
       "    </tr>\n",
       "  </tbody>\n",
       "</table>\n",
       "</div>"
      ],
      "text/plain": [
       "   Rang  Unnamed: 1    Kommun  Folkmängd 31 december  Unnamed: 4 Förändring\n",
       "0  2020        2019       NaN                   2020        2019          %\n",
       "1    83          84       Ale                  31868       31402   1.483982\n",
       "2    64          64  Alingsås                  41602       41420   0.439401\n",
       "3   123         123   Alvesta                  20224       20134   0.447005\n",
       "4   255         255     Aneby                   6821        6848  -0.394276"
      ]
     },
     "execution_count": 34,
     "metadata": {},
     "output_type": "execute_result"
    }
   ],
   "source": [
    "df = pd.read_excel(\n",
    "    \"../Data/komtopp50_2020.xlsx\", header=5, usecols=range(0, 6), sheet_name=\"Totalt\"\n",
    ")\n",
    "\n",
    "df.head()\n"
   ]
  },
  {
   "cell_type": "code",
   "execution_count": 35,
   "metadata": {},
   "outputs": [
    {
     "name": "stdout",
     "output_type": "stream",
     "text": [
      "<class 'pandas.core.frame.DataFrame'>\n",
      "RangeIndex: 291 entries, 0 to 290\n",
      "Data columns (total 6 columns):\n",
      " #   Column                 Non-Null Count  Dtype \n",
      "---  ------                 --------------  ----- \n",
      " 0   Rang                   291 non-null    int64 \n",
      " 1   Unnamed: 1             291 non-null    int64 \n",
      " 2   Kommun                 290 non-null    object\n",
      " 3   Folkmängd 31 december  291 non-null    int64 \n",
      " 4   Unnamed: 4             291 non-null    int64 \n",
      " 5   Förändring             291 non-null    object\n",
      "dtypes: int64(4), object(2)\n",
      "memory usage: 13.8+ KB\n"
     ]
    }
   ],
   "source": [
    "df.info()\n"
   ]
  },
  {
   "cell_type": "code",
   "execution_count": 36,
   "metadata": {},
   "outputs": [
    {
     "data": {
      "text/html": [
       "<div>\n",
       "<style scoped>\n",
       "    .dataframe tbody tr th:only-of-type {\n",
       "        vertical-align: middle;\n",
       "    }\n",
       "\n",
       "    .dataframe tbody tr th {\n",
       "        vertical-align: top;\n",
       "    }\n",
       "\n",
       "    .dataframe thead th {\n",
       "        text-align: right;\n",
       "    }\n",
       "</style>\n",
       "<table border=\"1\" class=\"dataframe\">\n",
       "  <thead>\n",
       "    <tr style=\"text-align: right;\">\n",
       "      <th></th>\n",
       "      <th>Rang</th>\n",
       "      <th>Unnamed: 1</th>\n",
       "      <th>Folkmängd 31 december</th>\n",
       "      <th>Unnamed: 4</th>\n",
       "    </tr>\n",
       "  </thead>\n",
       "  <tbody>\n",
       "    <tr>\n",
       "      <th>count</th>\n",
       "      <td>291.000000</td>\n",
       "      <td>291.000000</td>\n",
       "      <td>291.000000</td>\n",
       "      <td>291.000000</td>\n",
       "    </tr>\n",
       "    <tr>\n",
       "      <th>mean</th>\n",
       "      <td>151.941581</td>\n",
       "      <td>151.934708</td>\n",
       "      <td>35674.621993</td>\n",
       "      <td>35496.934708</td>\n",
       "    </tr>\n",
       "    <tr>\n",
       "      <th>std</th>\n",
       "      <td>138.141207</td>\n",
       "      <td>138.092769</td>\n",
       "      <td>74524.551914</td>\n",
       "      <td>74190.464321</td>\n",
       "    </tr>\n",
       "    <tr>\n",
       "      <th>min</th>\n",
       "      <td>1.000000</td>\n",
       "      <td>1.000000</td>\n",
       "      <td>2020.000000</td>\n",
       "      <td>2019.000000</td>\n",
       "    </tr>\n",
       "    <tr>\n",
       "      <th>25%</th>\n",
       "      <td>73.500000</td>\n",
       "      <td>73.500000</td>\n",
       "      <td>9993.500000</td>\n",
       "      <td>10005.000000</td>\n",
       "    </tr>\n",
       "    <tr>\n",
       "      <th>50%</th>\n",
       "      <td>146.000000</td>\n",
       "      <td>146.000000</td>\n",
       "      <td>16063.000000</td>\n",
       "      <td>15940.000000</td>\n",
       "    </tr>\n",
       "    <tr>\n",
       "      <th>75%</th>\n",
       "      <td>218.500000</td>\n",
       "      <td>218.500000</td>\n",
       "      <td>35775.500000</td>\n",
       "      <td>35649.500000</td>\n",
       "    </tr>\n",
       "    <tr>\n",
       "      <th>max</th>\n",
       "      <td>2020.000000</td>\n",
       "      <td>2019.000000</td>\n",
       "      <td>975551.000000</td>\n",
       "      <td>974073.000000</td>\n",
       "    </tr>\n",
       "  </tbody>\n",
       "</table>\n",
       "</div>"
      ],
      "text/plain": [
       "              Rang   Unnamed: 1  Folkmängd 31 december     Unnamed: 4\n",
       "count   291.000000   291.000000             291.000000     291.000000\n",
       "mean    151.941581   151.934708           35674.621993   35496.934708\n",
       "std     138.141207   138.092769           74524.551914   74190.464321\n",
       "min       1.000000     1.000000            2020.000000    2019.000000\n",
       "25%      73.500000    73.500000            9993.500000   10005.000000\n",
       "50%     146.000000   146.000000           16063.000000   15940.000000\n",
       "75%     218.500000   218.500000           35775.500000   35649.500000\n",
       "max    2020.000000  2019.000000          975551.000000  974073.000000"
      ]
     },
     "execution_count": 36,
     "metadata": {},
     "output_type": "execute_result"
    }
   ],
   "source": [
    "df.describe()\n"
   ]
  },
  {
   "cell_type": "markdown",
   "metadata": {},
   "source": [
    "### b) Clean your data so that the h"
   ]
  },
  {
   "cell_type": "code",
   "execution_count": 37,
   "metadata": {},
   "outputs": [
    {
     "data": {
      "text/html": [
       "<div>\n",
       "<style scoped>\n",
       "    .dataframe tbody tr th:only-of-type {\n",
       "        vertical-align: middle;\n",
       "    }\n",
       "\n",
       "    .dataframe tbody tr th {\n",
       "        vertical-align: top;\n",
       "    }\n",
       "\n",
       "    .dataframe thead th {\n",
       "        text-align: right;\n",
       "    }\n",
       "</style>\n",
       "<table border=\"1\" class=\"dataframe\">\n",
       "  <thead>\n",
       "    <tr style=\"text-align: right;\">\n",
       "      <th></th>\n",
       "      <th>Rang 2020</th>\n",
       "      <th>Rang 2019</th>\n",
       "      <th>Kommun</th>\n",
       "      <th>Folkmängd 2020</th>\n",
       "      <th>Folkmängd 2019</th>\n",
       "      <th>Förändring</th>\n",
       "    </tr>\n",
       "  </thead>\n",
       "  <tbody>\n",
       "    <tr>\n",
       "      <th>1</th>\n",
       "      <td>83</td>\n",
       "      <td>84</td>\n",
       "      <td>Ale</td>\n",
       "      <td>31868</td>\n",
       "      <td>31402</td>\n",
       "      <td>1.483982</td>\n",
       "    </tr>\n",
       "    <tr>\n",
       "      <th>2</th>\n",
       "      <td>64</td>\n",
       "      <td>64</td>\n",
       "      <td>Alingsås</td>\n",
       "      <td>41602</td>\n",
       "      <td>41420</td>\n",
       "      <td>0.439401</td>\n",
       "    </tr>\n",
       "    <tr>\n",
       "      <th>3</th>\n",
       "      <td>123</td>\n",
       "      <td>123</td>\n",
       "      <td>Alvesta</td>\n",
       "      <td>20224</td>\n",
       "      <td>20134</td>\n",
       "      <td>0.447005</td>\n",
       "    </tr>\n",
       "    <tr>\n",
       "      <th>4</th>\n",
       "      <td>255</td>\n",
       "      <td>255</td>\n",
       "      <td>Aneby</td>\n",
       "      <td>6821</td>\n",
       "      <td>6848</td>\n",
       "      <td>-0.394276</td>\n",
       "    </tr>\n",
       "    <tr>\n",
       "      <th>5</th>\n",
       "      <td>169</td>\n",
       "      <td>167</td>\n",
       "      <td>Arboga</td>\n",
       "      <td>14039</td>\n",
       "      <td>14087</td>\n",
       "      <td>-0.34074</td>\n",
       "    </tr>\n",
       "    <tr>\n",
       "      <th>...</th>\n",
       "      <td>...</td>\n",
       "      <td>...</td>\n",
       "      <td>...</td>\n",
       "      <td>...</td>\n",
       "      <td>...</td>\n",
       "      <td>...</td>\n",
       "    </tr>\n",
       "    <tr>\n",
       "      <th>286</th>\n",
       "      <td>54</td>\n",
       "      <td>55</td>\n",
       "      <td>Österåker</td>\n",
       "      <td>46644</td>\n",
       "      <td>45574</td>\n",
       "      <td>2.34783</td>\n",
       "    </tr>\n",
       "    <tr>\n",
       "      <th>287</th>\n",
       "      <td>116</td>\n",
       "      <td>115</td>\n",
       "      <td>Östhammar</td>\n",
       "      <td>22251</td>\n",
       "      <td>22250</td>\n",
       "      <td>0.004494</td>\n",
       "    </tr>\n",
       "    <tr>\n",
       "      <th>288</th>\n",
       "      <td>160</td>\n",
       "      <td>159</td>\n",
       "      <td>Östra Göinge</td>\n",
       "      <td>15017</td>\n",
       "      <td>15007</td>\n",
       "      <td>0.066636</td>\n",
       "    </tr>\n",
       "    <tr>\n",
       "      <th>289</th>\n",
       "      <td>284</td>\n",
       "      <td>284</td>\n",
       "      <td>Överkalix</td>\n",
       "      <td>3289</td>\n",
       "      <td>3315</td>\n",
       "      <td>-0.784314</td>\n",
       "    </tr>\n",
       "    <tr>\n",
       "      <th>290</th>\n",
       "      <td>279</td>\n",
       "      <td>279</td>\n",
       "      <td>Övertorneå</td>\n",
       "      <td>4217</td>\n",
       "      <td>4299</td>\n",
       "      <td>-1.90742</td>\n",
       "    </tr>\n",
       "  </tbody>\n",
       "</table>\n",
       "<p>290 rows × 6 columns</p>\n",
       "</div>"
      ],
      "text/plain": [
       "     Rang 2020  Rang 2019        Kommun  Folkmängd 2020  Folkmängd 2019  \\\n",
       "1           83         84           Ale           31868           31402   \n",
       "2           64         64      Alingsås           41602           41420   \n",
       "3          123        123       Alvesta           20224           20134   \n",
       "4          255        255         Aneby            6821            6848   \n",
       "5          169        167        Arboga           14039           14087   \n",
       "..         ...        ...           ...             ...             ...   \n",
       "286         54         55     Österåker           46644           45574   \n",
       "287        116        115     Östhammar           22251           22250   \n",
       "288        160        159  Östra Göinge           15017           15007   \n",
       "289        284        284     Överkalix            3289            3315   \n",
       "290        279        279    Övertorneå            4217            4299   \n",
       "\n",
       "    Förändring  \n",
       "1     1.483982  \n",
       "2     0.439401  \n",
       "3     0.447005  \n",
       "4    -0.394276  \n",
       "5     -0.34074  \n",
       "..         ...  \n",
       "286    2.34783  \n",
       "287   0.004494  \n",
       "288   0.066636  \n",
       "289  -0.784314  \n",
       "290   -1.90742  \n",
       "\n",
       "[290 rows x 6 columns]"
      ]
     },
     "execution_count": 37,
     "metadata": {},
     "output_type": "execute_result"
    }
   ],
   "source": [
    "data_frame = df.drop(0, inplace=False)\n",
    "\n",
    "data_frame = data_frame.rename(\n",
    "    columns={\n",
    "        \"Rang\": \"Rang 2020\",\n",
    "        \"Unnamed: 1\": \"Rang 2019\",\n",
    "        \"Folkmängd 31 december\": \"Folkmängd 2020\",\n",
    "        \"Unnamed: 4\": \"Folkmängd 2019\",\n",
    "    }\n",
    ")\n",
    "\n",
    "data_frame\n"
   ]
  },
  {
   "cell_type": "markdown",
   "metadata": {},
   "source": [
    "### c) Sort the cities by population from largest to smallest."
   ]
  },
  {
   "cell_type": "code",
   "execution_count": 39,
   "metadata": {},
   "outputs": [
    {
     "data": {
      "text/html": [
       "<div>\n",
       "<style scoped>\n",
       "    .dataframe tbody tr th:only-of-type {\n",
       "        vertical-align: middle;\n",
       "    }\n",
       "\n",
       "    .dataframe tbody tr th {\n",
       "        vertical-align: top;\n",
       "    }\n",
       "\n",
       "    .dataframe thead th {\n",
       "        text-align: right;\n",
       "    }\n",
       "</style>\n",
       "<table border=\"1\" class=\"dataframe\">\n",
       "  <thead>\n",
       "    <tr style=\"text-align: right;\">\n",
       "      <th></th>\n",
       "      <th>Rang 2020</th>\n",
       "      <th>Rang 2019</th>\n",
       "      <th>Kommun</th>\n",
       "      <th>Folkmängd 2020</th>\n",
       "      <th>Folkmängd 2019</th>\n",
       "      <th>Förändring</th>\n",
       "    </tr>\n",
       "  </thead>\n",
       "  <tbody>\n",
       "    <tr>\n",
       "      <th>0</th>\n",
       "      <td>1</td>\n",
       "      <td>1</td>\n",
       "      <td>Stockholm</td>\n",
       "      <td>975551</td>\n",
       "      <td>974073</td>\n",
       "      <td>0.151734</td>\n",
       "    </tr>\n",
       "    <tr>\n",
       "      <th>1</th>\n",
       "      <td>2</td>\n",
       "      <td>2</td>\n",
       "      <td>Göteborg</td>\n",
       "      <td>583056</td>\n",
       "      <td>579281</td>\n",
       "      <td>0.65167</td>\n",
       "    </tr>\n",
       "    <tr>\n",
       "      <th>2</th>\n",
       "      <td>3</td>\n",
       "      <td>3</td>\n",
       "      <td>Malmö</td>\n",
       "      <td>347949</td>\n",
       "      <td>344166</td>\n",
       "      <td>1.099179</td>\n",
       "    </tr>\n",
       "    <tr>\n",
       "      <th>3</th>\n",
       "      <td>4</td>\n",
       "      <td>4</td>\n",
       "      <td>Uppsala</td>\n",
       "      <td>233839</td>\n",
       "      <td>230767</td>\n",
       "      <td>1.331213</td>\n",
       "    </tr>\n",
       "    <tr>\n",
       "      <th>4</th>\n",
       "      <td>5</td>\n",
       "      <td>5</td>\n",
       "      <td>Linköping</td>\n",
       "      <td>164616</td>\n",
       "      <td>163051</td>\n",
       "      <td>0.959822</td>\n",
       "    </tr>\n",
       "    <tr>\n",
       "      <th>...</th>\n",
       "      <td>...</td>\n",
       "      <td>...</td>\n",
       "      <td>...</td>\n",
       "      <td>...</td>\n",
       "      <td>...</td>\n",
       "      <td>...</td>\n",
       "    </tr>\n",
       "    <tr>\n",
       "      <th>285</th>\n",
       "      <td>286</td>\n",
       "      <td>286</td>\n",
       "      <td>Åsele</td>\n",
       "      <td>2805</td>\n",
       "      <td>2794</td>\n",
       "      <td>0.393701</td>\n",
       "    </tr>\n",
       "    <tr>\n",
       "      <th>286</th>\n",
       "      <td>287</td>\n",
       "      <td>287</td>\n",
       "      <td>Arjeplog</td>\n",
       "      <td>2718</td>\n",
       "      <td>2785</td>\n",
       "      <td>-2.405745</td>\n",
       "    </tr>\n",
       "    <tr>\n",
       "      <th>287</th>\n",
       "      <td>288</td>\n",
       "      <td>288</td>\n",
       "      <td>Dorotea</td>\n",
       "      <td>2498</td>\n",
       "      <td>2551</td>\n",
       "      <td>-2.077617</td>\n",
       "    </tr>\n",
       "    <tr>\n",
       "      <th>288</th>\n",
       "      <td>289</td>\n",
       "      <td>289</td>\n",
       "      <td>Sorsele</td>\n",
       "      <td>2442</td>\n",
       "      <td>2489</td>\n",
       "      <td>-1.888309</td>\n",
       "    </tr>\n",
       "    <tr>\n",
       "      <th>289</th>\n",
       "      <td>290</td>\n",
       "      <td>290</td>\n",
       "      <td>Bjurholm</td>\n",
       "      <td>2387</td>\n",
       "      <td>2408</td>\n",
       "      <td>-0.872093</td>\n",
       "    </tr>\n",
       "  </tbody>\n",
       "</table>\n",
       "<p>290 rows × 6 columns</p>\n",
       "</div>"
      ],
      "text/plain": [
       "     Rang 2020  Rang 2019     Kommun  Folkmängd 2020  Folkmängd 2019  \\\n",
       "0            1          1  Stockholm          975551          974073   \n",
       "1            2          2   Göteborg          583056          579281   \n",
       "2            3          3      Malmö          347949          344166   \n",
       "3            4          4    Uppsala          233839          230767   \n",
       "4            5          5  Linköping          164616          163051   \n",
       "..         ...        ...        ...             ...             ...   \n",
       "285        286        286      Åsele            2805            2794   \n",
       "286        287        287   Arjeplog            2718            2785   \n",
       "287        288        288    Dorotea            2498            2551   \n",
       "288        289        289    Sorsele            2442            2489   \n",
       "289        290        290   Bjurholm            2387            2408   \n",
       "\n",
       "    Förändring  \n",
       "0     0.151734  \n",
       "1      0.65167  \n",
       "2     1.099179  \n",
       "3     1.331213  \n",
       "4     0.959822  \n",
       "..         ...  \n",
       "285   0.393701  \n",
       "286  -2.405745  \n",
       "287  -2.077617  \n",
       "288  -1.888309  \n",
       "289  -0.872093  \n",
       "\n",
       "[290 rows x 6 columns]"
      ]
     },
     "execution_count": 39,
     "metadata": {},
     "output_type": "execute_result"
    }
   ],
   "source": [
    "sorted_citys = data_frame.sort_values(by=\"Folkmängd 2020\", ascending=False)\n",
    "sorted_citys.reset_index(drop=True, inplace=True)\n",
    "\n",
    "sorted_citys\n"
   ]
  },
  {
   "cell_type": "markdown",
   "metadata": {},
   "source": [
    "### d) Filter out the five smallest cities."
   ]
  },
  {
   "cell_type": "code",
   "execution_count": 57,
   "metadata": {},
   "outputs": [
    {
     "data": {
      "text/html": [
       "<div>\n",
       "<style scoped>\n",
       "    .dataframe tbody tr th:only-of-type {\n",
       "        vertical-align: middle;\n",
       "    }\n",
       "\n",
       "    .dataframe tbody tr th {\n",
       "        vertical-align: top;\n",
       "    }\n",
       "\n",
       "    .dataframe thead th {\n",
       "        text-align: right;\n",
       "    }\n",
       "</style>\n",
       "<table border=\"1\" class=\"dataframe\">\n",
       "  <thead>\n",
       "    <tr style=\"text-align: right;\">\n",
       "      <th></th>\n",
       "      <th>Rang 2020</th>\n",
       "      <th>Rang 2019</th>\n",
       "      <th>Kommun</th>\n",
       "      <th>Folkmängd 2020</th>\n",
       "      <th>Folkmängd 2019</th>\n",
       "      <th>Förändring</th>\n",
       "    </tr>\n",
       "  </thead>\n",
       "  <tbody>\n",
       "    <tr>\n",
       "      <th>289</th>\n",
       "      <td>290</td>\n",
       "      <td>290</td>\n",
       "      <td>Bjurholm</td>\n",
       "      <td>2387</td>\n",
       "      <td>2408</td>\n",
       "      <td>-0.872093</td>\n",
       "    </tr>\n",
       "    <tr>\n",
       "      <th>288</th>\n",
       "      <td>289</td>\n",
       "      <td>289</td>\n",
       "      <td>Sorsele</td>\n",
       "      <td>2442</td>\n",
       "      <td>2489</td>\n",
       "      <td>-1.888309</td>\n",
       "    </tr>\n",
       "    <tr>\n",
       "      <th>287</th>\n",
       "      <td>288</td>\n",
       "      <td>288</td>\n",
       "      <td>Dorotea</td>\n",
       "      <td>2498</td>\n",
       "      <td>2551</td>\n",
       "      <td>-2.077617</td>\n",
       "    </tr>\n",
       "    <tr>\n",
       "      <th>286</th>\n",
       "      <td>287</td>\n",
       "      <td>287</td>\n",
       "      <td>Arjeplog</td>\n",
       "      <td>2718</td>\n",
       "      <td>2785</td>\n",
       "      <td>-2.405745</td>\n",
       "    </tr>\n",
       "    <tr>\n",
       "      <th>285</th>\n",
       "      <td>286</td>\n",
       "      <td>286</td>\n",
       "      <td>Åsele</td>\n",
       "      <td>2805</td>\n",
       "      <td>2794</td>\n",
       "      <td>0.393701</td>\n",
       "    </tr>\n",
       "  </tbody>\n",
       "</table>\n",
       "</div>"
      ],
      "text/plain": [
       "     Rang 2020  Rang 2019    Kommun  Folkmängd 2020  Folkmängd 2019 Förändring\n",
       "289        290        290  Bjurholm            2387            2408  -0.872093\n",
       "288        289        289   Sorsele            2442            2489  -1.888309\n",
       "287        288        288   Dorotea            2498            2551  -2.077617\n",
       "286        287        287  Arjeplog            2718            2785  -2.405745\n",
       "285        286        286     Åsele            2805            2794   0.393701"
      ]
     },
     "execution_count": 57,
     "metadata": {},
     "output_type": "execute_result"
    }
   ],
   "source": [
    "bottom5_citys = sorted_citys[:-6:-1]\n",
    "bottom5_citys\n"
   ]
  },
  {
   "cell_type": "markdown",
   "metadata": {},
   "source": [
    "### e) Use the DataFrame to calculate Sweden's population in 2019 and 2020."
   ]
  },
  {
   "cell_type": "code",
   "execution_count": 54,
   "metadata": {},
   "outputs": [
    {
     "name": "stdout",
     "output_type": "stream",
     "text": [
      "10327589\n",
      "10379295\n"
     ]
    }
   ],
   "source": [
    "swe_population_2019 = data_frame[\"Folkmängd 2019\"].sum()\n",
    "swe_population_2020 = data_frame[\"Folkmängd 2020\"].sum()\n",
    "\n",
    "print(swe_population_2019)\n",
    "print(swe_population_2020)\n"
   ]
  },
  {
   "cell_type": "markdown",
   "metadata": {},
   "source": [
    "### f) Plot a bar chart for the five largest cities and the five smallest cities."
   ]
  },
  {
   "cell_type": "code",
   "execution_count": 65,
   "metadata": {},
   "outputs": [
    {
     "data": {
      "text/plain": [
       "<AxesSubplot: xlabel='Kommun', ylabel='Folkmängd 2020'>"
      ]
     },
     "execution_count": 65,
     "metadata": {},
     "output_type": "execute_result"
    },
    {
     "data": {
      "image/png": "[encoded data removed]",
      "text/plain": [
       "<Figure size 1920x480 with 2 Axes>"
      ]
     },
     "metadata": {},
     "output_type": "display_data"
    }
   ],
   "source": [
    "import seaborn as sns\n",
    "import matplotlib.pyplot as plt\n",
    "\n",
    "fig, axes = plt.subplots(1, 2, figsize=(16, 4), dpi=120)\n",
    "\n",
    "five_max_citys = sorted_citys.head()\n",
    "five_min_citys = sorted_citys[:-6:-1]\n",
    "\n",
    "sns.barplot(\n",
    "    data=five_max_citys,\n",
    "    x=five_max_citys[\"Kommun\"],\n",
    "    y=five_max_citys[\"Folkmängd 2020\"],\n",
    "    ax=axes[0],\n",
    ")\n",
    "sns.barplot(\n",
    "    data=five_min_citys,\n",
    "    x=five_min_citys[\"Kommun\"],\n",
    "    y=five_min_citys[\"Folkmängd 2020\"],\n",
    "    ax=axes[1],\n",
    ")\n"
   ]
  },
  {
   "cell_type": "markdown",
   "metadata": {},
   "source": [
    "# 3. Cities in Sweden - gender\n",
    "\n",
    "We continue with the same Excel-file as in task 2, but now you should also read in the sheets \"Kvinnor\" and \"Män\" into two additional DataFrames. In this task, many operations are similar to all three datasets, try creating custom made functions to reuse as much code as possible."
   ]
  },
  {
   "cell_type": "code",
   "execution_count": 76,
   "metadata": {},
   "outputs": [],
   "source": [
    "swe_citys_male = pd.read_excel(\n",
    "    \"../Data/komtopp50_2020.xlsx\", header=5, usecols=range(0, 6), sheet_name=\"Män\"\n",
    ")\n",
    "swe_citys_female = pd.read_excel(\n",
    "    \"../Data/komtopp50_2020.xlsx\", header=5, usecols=range(0, 6), sheet_name=\"Kvinnor\"\n",
    ")\n"
   ]
  },
  {
   "cell_type": "markdown",
   "metadata": {},
   "source": [
    "### a) Clean your data so that the head looks like this:"
   ]
  },
  {
   "cell_type": "code",
   "execution_count": 79,
   "metadata": {},
   "outputs": [
    {
     "ename": "AttributeError",
     "evalue": "'NoneType' object has no attribute 'drop'",
     "output_type": "error",
     "traceback": [
      "\u001b[0;31m---------------------------------------------------------------------------\u001b[0m",
      "\u001b[0;31mAttributeError\u001b[0m                            Traceback (most recent call last)",
      "Cell \u001b[0;32mIn [79], line 1\u001b[0m\n\u001b[0;32m----> 1\u001b[0m swe_citys_male \u001b[39m=\u001b[39m swe_citys_male\u001b[39m.\u001b[39;49mdrop(\u001b[39m0\u001b[39m, inplace\u001b[39m=\u001b[39m \u001b[39mTrue\u001b[39;00m) \u001b[39m# drops the first row. \u001b[39;00m\n\u001b[1;32m      3\u001b[0m columns \u001b[39m=\u001b[39m {\u001b[39m\"\u001b[39m\u001b[39mRang\u001b[39m\u001b[39m\"\u001b[39m: \u001b[39m\"\u001b[39m\u001b[39mRang 2020\u001b[39m\u001b[39m\"\u001b[39m, \u001b[39m\"\u001b[39m\u001b[39mUnnamed: 1\u001b[39m\u001b[39m\"\u001b[39m: \u001b[39m\"\u001b[39m\u001b[39mRang 2019\u001b[39m\u001b[39m\"\u001b[39m, \u001b[39m\"\u001b[39m\u001b[39mMän 31 december\u001b[39m\u001b[39m\"\u001b[39m: \u001b[39m\"\u001b[39m\u001b[39mFolkmängd 2020\u001b[39m\u001b[39m\"\u001b[39m, \u001b[39m\"\u001b[39m\u001b[39mUnnamed: 4\t\u001b[39m\u001b[39m\"\u001b[39m: \u001b[39m\"\u001b[39m\u001b[39mFolkmängd 2019\u001b[39m\u001b[39m\"\u001b[39m}\n\u001b[1;32m      5\u001b[0m swe_citys_male \u001b[39m=\u001b[39m swe_citys_male\u001b[39m.\u001b[39mrename(columns\u001b[39m=\u001b[39m{\u001b[39m\"\u001b[39m\u001b[39mRang\u001b[39m\u001b[39m\"\u001b[39m: \u001b[39m\"\u001b[39m\u001b[39mRang 2020\u001b[39m\u001b[39m\"\u001b[39m, \u001b[39m\"\u001b[39m\u001b[39mUnnamed: 1\u001b[39m\u001b[39m\"\u001b[39m: \u001b[39m\"\u001b[39m\u001b[39mRang 2019\u001b[39m\u001b[39m\"\u001b[39m, \u001b[39m\"\u001b[39m\u001b[39mMän 31 december\u001b[39m\u001b[39m\"\u001b[39m: \u001b[39m\"\u001b[39m\u001b[39mFolkmängd 2020\u001b[39m\u001b[39m\"\u001b[39m, \u001b[39m\"\u001b[39m\u001b[39mUnnamed: 4\t\u001b[39m\u001b[39m\"\u001b[39m: \u001b[39m\"\u001b[39m\u001b[39mFolkmängd 2019\u001b[39m\u001b[39m\"\u001b[39m})\n",
      "\u001b[0;31mAttributeError\u001b[0m: 'NoneType' object has no attribute 'drop'"
     ]
    }
   ],
   "source": [
    "swe_citys_male = swe_citys_male.drop(0, inplace= True) # drops the first row. \n",
    "\n",
    "columns = {\"Rang\": \"Rang 2020\", \"Unnamed: 1\": \"Rang 2019\", \"Män 31 december\": \"Folkmängd 2020\", \"Unnamed: 4\t\": \"Folkmängd 2019\"}\n",
    "\n",
    "swe_citys_male = swe_citys_male.rename(columns={\"Rang\": \"Rang 2020\", \"Unnamed: 1\": \"Rang 2019\", \"Män 31 december\": \"Folkmängd 2020\", \"Unnamed: 4\t\": \"Folkmängd 2019\"})\n",
    "swe_citys_male"
   ]
  },
  {
   "cell_type": "code",
   "execution_count": null,
   "metadata": {},
   "outputs": [],
   "source": []
  }
 ],
 "metadata": {
  "kernelspec": {
   "display_name": "Python 3.9.12 ('Databehandling-Philip-de-Canesie-AszKEhNC')",
   "language": "python",
   "name": "python3"
  },
  "language_info": {
   "codemirror_mode": {
    "name": "ipython",
    "version": 3
   },
   "file_extension": ".py",
   "mimetype": "text/x-python",
   "name": "python",
   "nbconvert_exporter": "python",
   "pygments_lexer": "ipython3",
   "version": "3.9.12"
  },
  "orig_nbformat": 4,
  "vscode": {
   "interpreter": {
    "hash": "c5e1d3ddff0bcc26da5138dc064c3f402c309669e27daf64f64792089bd10226"
   }
  }
 },
 "nbformat": 4,
 "nbformat_minor": 2
}
